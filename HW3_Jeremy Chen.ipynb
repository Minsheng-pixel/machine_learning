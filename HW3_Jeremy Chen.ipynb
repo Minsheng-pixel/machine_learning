{
 "cells": [
  {
   "cell_type": "code",
   "execution_count": 1,
   "metadata": {
    "id": "tCGUKkwUOLxM"
   },
   "outputs": [],
   "source": [
    "import numpy as np\n",
    "import torch\n",
    "from torch import nn\n",
    "import torch.optim as optim\n",
    "import torch.nn.functional as F\n",
    "\n",
    "import matplotlib.pyplot as plt\n",
    "import seaborn as sns\n",
    "import time"
   ]
  },
  {
   "cell_type": "markdown",
   "metadata": {
    "id": "rjBhqvLYOLxQ"
   },
   "source": [
    "# Homework 3: Neural Networks\n",
    "\n",
    "Please read all instructions for this homework carefully. Many of the questions ask for specific things to be in your notebooks and many of your questions may be answered in the step-by-step instructions. You will need include _all_ parts of the questions in your answers to recieve full credit.\n",
    "\n",
    "This homework is going to focus heavily on the practical use of neural networks. You will be required to learn the basics of PyTorch (https://pytorch.org/) to implement and train fully connected and convolutional neural networks.\n",
    "\n",
    "We strongly recommend working through the PyTorch beginner guide [here](https://pytorch.org/tutorials/beginner/deep_learning_60min_blitz.html), which will both give you a good idea of how PyTorch works and provide you with some boilerplate code you can adapt for this assignment. "
   ]
  },
  {
   "cell_type": "markdown",
   "metadata": {
    "id": "I1HsSSJ79d8c"
   },
   "source": [
    "## Question 1: Backpropagation\n",
    "\n",
    "A computational graph is a framework to represent complex mathematical expressions as a directed graph of function compositions, starting from the simplest, to the most complex. For instance, the expression $e = (a+b)\\times(b+1)$ can be represented as a computational graph, as shown in the figure below. Each node represents a variable, where the direction represents the flow of inputs to (intermediate) outputs. All incoming variables are collected to be operated on by a function. \n",
    "\n",
    "$$\n",
    "c = a + b \\\\\n",
    "d = b + 1 \\\\\n",
    "e = c \\times d\n",
    "$$\n",
    "\n",
    "\n",
    "In the graph below, these functions are multiplications and additions, and a sequence of simple operations leads to the relatively complex expression of $e$.\n",
    "\n",
    "![A Computational Graph (http://colah.github.io/posts/2015-08-Backprop/)](http://colah.github.io/posts/2015-08-Backprop/img/tree-def.png)\n",
    "\n",
    "Computational graphs allow for a computational abstraction to compute _exact_ partial derivatives of complex expressions, as a realization of the chain rule from calculus. For instance, computing $\\frac{\\partial e}{\\partial a}$ involves essentially reversing the arrows and transporting intermediate partial derivatives back to $a$. This method is termed _backpropagation_ (short: _backprop_), and is a key ingredient of modern neural network frameworks that implement gradient descent (including PyTorch). The first-three sections of [Calculus on Computational Graphs: Backpropagation](http://colah.github.io/posts/2015-08-Backprop/) should allow reasonable understanding for the next questions."
   ]
  },
  {
   "cell_type": "markdown",
   "metadata": {
    "id": "C_M9dWWhK5nY"
   },
   "source": [
    "### Part A: Computational Graph for Logistic Regression\n",
    "\n",
    "Build the computational graph of logistic regression for a single input/output pair. As in earlier homeworks/labs, use the variables $\\mathbf{w} = \\begin{bmatrix}\\mathbf{w}_0 & \\mathbf{w}_1 & \\cdots & \\mathbf{w}_d\\end{bmatrix}^T \\in \\mathbb{R}^{d+1}$ for the vector of parameters and $\\mathbf{x} = \\begin{bmatrix}1 & x_1 & x_2 & \\cdots & x_d \\end{bmatrix} \\in \\mathbb{R}^{d}$ for the vector input, with $y$ as the corresponding output. Write the computational graph as a sequence of algebraic equations in terms of simple unary/binary functions only (no graphic needed).\n",
    "\n",
    "$v_{-1}= {w}, v_{0}={x}, v_1= {wx}, v_2= e^{-wx}= e^{-v_1}, v_3= 1+e^{-wx}= 1+v_2, v_4= \\frac{1}{v_3}, y= v_4$"
   ]
  },
  {
   "cell_type": "markdown",
   "metadata": {
    "id": "3gV349FCK8Vf"
   },
   "source": [
    "### Part B: Backprop on Logistic Regression\n",
    "\n",
    "For the computational graph built in I., compute the derivatives of the loss in logistic regression with respect to the parameters $\\mathbf{w}$ via backpropagation. Write these as a sequence of equations (no graphic needed), that clearly show _backward_ flow of gradients via the chain rule.\n",
    "\n",
    "**Hint**: Table 3 of [this manuscript](https://arxiv.org/abs/1502.05767) may be a helpful resource.\n",
    "\n",
    "$ \\bar{v}_4= \\bar{y} $ \n",
    "\n",
    "$\\bar{v}_3 = \\bar{v}_4 \\frac{\\partial v_4}{\\partial v_3}=   \\bar{v}_4 \\cdot -\\frac{1}{{v_3}^{2}}  $\n",
    "\n",
    "$\\bar{v}_2 = \\bar{v}_3 \\frac{\\partial v_3}{\\partial v_2}=  \\bar{v}_3 \\cdot 1= \\bar{v}_3 $\n",
    "\n",
    "$\\bar{v}_1 = \\bar{v}_2 \\frac{\\partial v_2}{\\partial v_1}= \\bar{v}_2 \\cdot - e^{-v_1}$\n",
    "\n",
    "$\\bar{v}_0 = \\bar{v}_1 \\frac{\\partial v_1}{\\partial v_0} = \\bar{v}_1 \\cdot v_{-1}$\n",
    "\n",
    "$\\bar{v}_{-1}= \\bar{v}_1 \\frac{\\partial v_1}{\\partial v_{-1}} = \\bar{v}_1 \\cdot v_{0}$"
   ]
  },
  {
   "cell_type": "markdown",
   "metadata": {
    "id": "lj2Eh2bxK-T-"
   },
   "source": [
    "### Part C: Challenges in _deep_ neural networks\n",
    "\n",
    "Now consider a _deep_ neural network with L layers, such that the function is defined via weight matrices at each layer are defined as $W^{(l)}$ for all $l \\in [1, \\dots, L]$, along with $\\sigma$ (sigmoid) non-linearity which is applied pointwise to the activation $h^{(l)}$ of each layer.\n",
    "\n",
    "$$\n",
    "h^{(l)} = \\begin{cases}\n",
    "\\sigma(W^{(l)}\\mathbf{x}),\\quad\\quad\\text{if}~l = 1 \\\\\n",
    "\\sigma(W^{(l)}h^{(l-1)}),\\quad\\text{if}~l < L \\\\\n",
    "W^{(l)}h^{(l-1)},\\quad\\quad\\text{if}~l = L\n",
    "\\end{cases}\n",
    "$$\n",
    "\n",
    "The definition simply defines the operations at the input layer (which involves $\\mathbf{x}$), hidden layers (which only involve activations at the previous layer $h^{(l-1)}$), and the output layer where no $\\sigma$ (sigmoid) activation is applied. Therefore, the neural network can be recursively defined as $f_\\mathbf{w}(h^{(L)})$. Why can very deep networks (i.e. large $L$) with sigmoid non-linearities be hard to learn via backpropagation?\n",
    "\n",
    "**Hint**: Consider a two hidden layer neural network (i.e. L = 3), and think about how repeated application of chain rule affects the qualitative nature of the gradients as we backpropagate from the output layer to the input layer, as we increase L.\n",
    "\n",
    "The maximum derivative of the sigmoid activation function is 0.25 and when the sigmoid activation function value is either too high or too low, the derivative of the sigmoid function is very close to 0. Considering a deep network, the derivative of the weight is a product of term, and this small gradient will stack up to a extremly small number. For example, if we have two layers, then the early layer would learn slower than the later hidden layer, and this is called the vansihing gradient.  \n"
   ]
  },
  {
   "cell_type": "markdown",
   "metadata": {
    "id": "nZ1CXexSOLxR"
   },
   "source": [
    "## Question 2: A Simple Dataset\n",
    "\n",
    "The aim of this question is to implement a first neural network, and start to get an intuition about what sorts of functions neural networks are capable of producing.\n",
    "First, use the provided code to generate 1000 training points and 500 testing points from the _two spirals_ dataset with `noise=1.5`.\n",
    "\n",
    "\n",
    "**Note** We've also included a two functions to help you. You should _not_ alter these functions (nor should you need to).\n",
    "\n",
    "`plotter` takes in your model and the training and testing data and will plot the predictions generated by your neural network.\n",
    "\n",
    "`accuracy` is a simple function that will compute the accuracy of your model on some given `x` and `y` data, i.e. either `train_x` and `train_y`, or `test_x` and `test_y`. "
   ]
  },
  {
   "cell_type": "code",
   "execution_count": 1,
   "metadata": {
    "id": "pCKHtk7yOLxR"
   },
   "outputs": [
    {
     "ename": "NameError",
     "evalue": "name 'np' is not defined",
     "output_type": "error",
     "traceback": [
      "\u001b[0;31m---------------------------------------------------------------------------\u001b[0m",
      "\u001b[0;31mNameError\u001b[0m                                 Traceback (most recent call last)",
      "\u001b[0;32m<ipython-input-1-581da9baf974>\u001b[0m in \u001b[0;36m<module>\u001b[0;34m\u001b[0m\n\u001b[1;32m     14\u001b[0m \u001b[0mnoise\u001b[0m \u001b[0;34m=\u001b[0m \u001b[0;36m1.5\u001b[0m\u001b[0;34m\u001b[0m\u001b[0;34m\u001b[0m\u001b[0m\n\u001b[1;32m     15\u001b[0m \u001b[0;34m\u001b[0m\u001b[0m\n\u001b[0;32m---> 16\u001b[0;31m \u001b[0mtrain_x\u001b[0m\u001b[0;34m,\u001b[0m \u001b[0mtrain_y\u001b[0m \u001b[0;34m=\u001b[0m \u001b[0mtwospirals\u001b[0m\u001b[0;34m(\u001b[0m\u001b[0mint\u001b[0m\u001b[0;34m(\u001b[0m\u001b[0mntrain\u001b[0m\u001b[0;34m/\u001b[0m\u001b[0;36m2\u001b[0m\u001b[0;34m)\u001b[0m\u001b[0;34m,\u001b[0m \u001b[0mnoise\u001b[0m\u001b[0;34m=\u001b[0m\u001b[0mnoise\u001b[0m\u001b[0;34m)\u001b[0m\u001b[0;34m\u001b[0m\u001b[0;34m\u001b[0m\u001b[0m\n\u001b[0m\u001b[1;32m     17\u001b[0m \u001b[0;34m\u001b[0m\u001b[0m\n\u001b[1;32m     18\u001b[0m \u001b[0mtrain_x\u001b[0m\u001b[0;34m,\u001b[0m \u001b[0mtrain_y\u001b[0m \u001b[0;34m=\u001b[0m \u001b[0mtorch\u001b[0m\u001b[0;34m.\u001b[0m\u001b[0mFloatTensor\u001b[0m\u001b[0;34m(\u001b[0m\u001b[0mtrain_x\u001b[0m\u001b[0;34m)\u001b[0m\u001b[0;34m,\u001b[0m \u001b[0mtorch\u001b[0m\u001b[0;34m.\u001b[0m\u001b[0mFloatTensor\u001b[0m\u001b[0;34m(\u001b[0m\u001b[0mtrain_y\u001b[0m\u001b[0;34m)\u001b[0m\u001b[0;34m.\u001b[0m\u001b[0munsqueeze\u001b[0m\u001b[0;34m(\u001b[0m\u001b[0;34m-\u001b[0m\u001b[0;36m1\u001b[0m\u001b[0;34m)\u001b[0m\u001b[0;34m\u001b[0m\u001b[0;34m\u001b[0m\u001b[0m\n",
      "\u001b[0;32m<ipython-input-1-581da9baf974>\u001b[0m in \u001b[0;36mtwospirals\u001b[0;34m(n_points, noise, random_state)\u001b[0m\n\u001b[1;32m      4\u001b[0m      \u001b[0mNote\u001b[0m\u001b[0;34m:\u001b[0m \u001b[0mn_points\u001b[0m \u001b[0;32mis\u001b[0m \u001b[0mpoints\u001b[0m \u001b[0mPER\u001b[0m \u001b[0mCLASS\u001b[0m\u001b[0;34m\u001b[0m\u001b[0;34m\u001b[0m\u001b[0m\n\u001b[1;32m      5\u001b[0m     \"\"\"\n\u001b[0;32m----> 6\u001b[0;31m     \u001b[0mn\u001b[0m \u001b[0;34m=\u001b[0m \u001b[0mnp\u001b[0m\u001b[0;34m.\u001b[0m\u001b[0msqrt\u001b[0m\u001b[0;34m(\u001b[0m\u001b[0mnp\u001b[0m\u001b[0;34m.\u001b[0m\u001b[0mrandom\u001b[0m\u001b[0;34m.\u001b[0m\u001b[0mrand\u001b[0m\u001b[0;34m(\u001b[0m\u001b[0mn_points\u001b[0m\u001b[0;34m,\u001b[0m\u001b[0;36m1\u001b[0m\u001b[0;34m)\u001b[0m\u001b[0;34m)\u001b[0m \u001b[0;34m*\u001b[0m \u001b[0;36m600\u001b[0m \u001b[0;34m*\u001b[0m \u001b[0;34m(\u001b[0m\u001b[0;36m2\u001b[0m\u001b[0;34m*\u001b[0m\u001b[0mnp\u001b[0m\u001b[0;34m.\u001b[0m\u001b[0mpi\u001b[0m\u001b[0;34m)\u001b[0m\u001b[0;34m/\u001b[0m\u001b[0;36m360\u001b[0m\u001b[0;34m\u001b[0m\u001b[0;34m\u001b[0m\u001b[0m\n\u001b[0m\u001b[1;32m      7\u001b[0m     \u001b[0md1x\u001b[0m \u001b[0;34m=\u001b[0m \u001b[0;34m-\u001b[0m\u001b[0;36m1.5\u001b[0m\u001b[0;34m*\u001b[0m\u001b[0mnp\u001b[0m\u001b[0;34m.\u001b[0m\u001b[0mcos\u001b[0m\u001b[0;34m(\u001b[0m\u001b[0mn\u001b[0m\u001b[0;34m)\u001b[0m\u001b[0;34m*\u001b[0m\u001b[0mn\u001b[0m \u001b[0;34m+\u001b[0m \u001b[0mnp\u001b[0m\u001b[0;34m.\u001b[0m\u001b[0mrandom\u001b[0m\u001b[0;34m.\u001b[0m\u001b[0mrandn\u001b[0m\u001b[0;34m(\u001b[0m\u001b[0mn_points\u001b[0m\u001b[0;34m,\u001b[0m\u001b[0;36m1\u001b[0m\u001b[0;34m)\u001b[0m \u001b[0;34m*\u001b[0m \u001b[0mnoise\u001b[0m\u001b[0;34m\u001b[0m\u001b[0;34m\u001b[0m\u001b[0m\n\u001b[1;32m      8\u001b[0m     \u001b[0md1y\u001b[0m \u001b[0;34m=\u001b[0m  \u001b[0;36m1.5\u001b[0m\u001b[0;34m*\u001b[0m\u001b[0mnp\u001b[0m\u001b[0;34m.\u001b[0m\u001b[0msin\u001b[0m\u001b[0;34m(\u001b[0m\u001b[0mn\u001b[0m\u001b[0;34m)\u001b[0m\u001b[0;34m*\u001b[0m\u001b[0mn\u001b[0m \u001b[0;34m+\u001b[0m \u001b[0mnp\u001b[0m\u001b[0;34m.\u001b[0m\u001b[0mrandom\u001b[0m\u001b[0;34m.\u001b[0m\u001b[0mrandn\u001b[0m\u001b[0;34m(\u001b[0m\u001b[0mn_points\u001b[0m\u001b[0;34m,\u001b[0m\u001b[0;36m1\u001b[0m\u001b[0;34m)\u001b[0m \u001b[0;34m*\u001b[0m \u001b[0mnoise\u001b[0m\u001b[0;34m\u001b[0m\u001b[0;34m\u001b[0m\u001b[0m\n",
      "\u001b[0;31mNameError\u001b[0m: name 'np' is not defined"
     ]
    }
   ],
   "source": [
    "def twospirals(n_points, noise=1.5, random_state=42):\n",
    "    \"\"\"\n",
    "     Returns the two spirals dataset.\n",
    "     Note: n_points is points PER CLASS\n",
    "    \"\"\"\n",
    "    n = np.sqrt(np.random.rand(n_points,1)) * 600 * (2*np.pi)/360\n",
    "    d1x = -1.5*np.cos(n)*n + np.random.randn(n_points,1) * noise\n",
    "    d1y =  1.5*np.sin(n)*n + np.random.randn(n_points,1) * noise\n",
    "    return (np.vstack((np.hstack((d1x,d1y)),np.hstack((-d1x,-d1y)))),\n",
    "            np.hstack((np.zeros(n_points),np.ones(n_points))))\n",
    "\n",
    "ntrain = 1000\n",
    "ntest = 500\n",
    "noise = 1.5\n",
    "\n",
    "train_x, train_y = twospirals(int(ntrain/2), noise=noise)\n",
    "\n",
    "train_x, train_y = torch.FloatTensor(train_x), torch.FloatTensor(train_y).unsqueeze(-1)\n",
    "print(train_y)\n",
    "test_x, test_y = twospirals(int(ntest/2), noise=noise)\n",
    "test_x, test_y = torch.FloatTensor(test_x), torch.FloatTensor(test_y).unsqueeze(-1)"
   ]
  },
  {
   "cell_type": "markdown",
   "metadata": {
    "id": "9K45OnsTOLxR"
   },
   "source": [
    "#### Helper Functions"
   ]
  },
  {
   "cell_type": "code",
   "execution_count": null,
   "metadata": {
    "id": "8DBRwX-8OLxR"
   },
   "outputs": [],
   "source": [
    "def plotter(model, train_x, train_y, test_x, test_y):\n",
    "    '''\n",
    "    This is just a simple plotting function, you should NOT need to change anything here\n",
    "    '''\n",
    "    buffer = 1.\n",
    "    h = 0.1\n",
    "    x_min, x_max = train_x[:, 0].min() - buffer, train_x[:, 0].max() + buffer\n",
    "    y_min, y_max = train_x[:, 1].min() - buffer, train_x[:, 1].max() + buffer\n",
    "\n",
    "    xx,yy=np.meshgrid(np.arange(x_min.cpu(), x_max.cpu(), h), \n",
    "                      np.arange(y_min.cpu(), y_max.cpu(), h))\n",
    "    in_grid = torch.FloatTensor([xx.ravel(), yy.ravel()]).t()\n",
    "\n",
    "    pred = torch.sigmoid(model(in_grid)).detach().reshape(xx.shape)\n",
    "    plt.figure(figsize=(15, 10))\n",
    "    cmap = sns.color_palette(\"crest_r\", as_cmap=True)\n",
    "    plt.contourf(xx, yy, pred, alpha=0.5, cmap=cmap)\n",
    "    plt.title(\"Classifier\", fontsize=24)\n",
    "    cbar= plt.colorbar()\n",
    "    cbar.set_label(label=r\"$P(Y = 1)$\", size=18)\n",
    "    cbar.ax.tick_params(labelsize=18)\n",
    "    plt.scatter(train_x[:, 0].cpu(), train_x[:, 1].cpu(), c=train_y[:, 0].cpu(), cmap=plt.cm.binary, alpha=0.5, label=\"Train\")\n",
    "    plt.scatter(test_x[:, 0].cpu(), test_x[:, 1].cpu(), c=test_y[:, 0].cpu(), cmap=plt.cm.binary, marker='+', s=150, label=\"Test\")\n",
    "    plt.legend(fontsize=18)\n",
    "    plt.xticks([])\n",
    "    plt.yticks([])\n",
    "    plt.show()\n",
    "    \n",
    "def accuracy(model, X, Y):\n",
    "    \n",
    "    preds = torch.round(torch.sigmoid((model(X))))\n",
    "    return 100 * len(torch.where(preds == Y)[0])/Y.numel()"
   ]
  },
  {
   "cell_type": "markdown",
   "metadata": {
    "id": "opdwwK2DOLxS"
   },
   "source": [
    "### Part A: Network Definition\n",
    "\n",
    "Write a class that defines a _fully connected_ neural network with ReLU activations. Your class should be a child class of the `torch.nn.Module` class, i.e. the first line of your class definition should be something like:\n",
    "```{python}\n",
    "class NeuralNetwork(nn.Module):\n",
    "```\n",
    "The number of layers and width of each layer is up to you - but keep this implementation flexible, as you'll need to come back and tweak your network in order to achieve the desired accuracy on our dataset.\n",
    "Additionally, this network should be built to work with the two spirals dataset, meaning it should take 2 dimensional inputs and produce a 1 dimensional output. Specifically we are constructing a network $f(x): \\mathbb{R}^2 \\rightarrow \\mathbb{R}$.\n",
    "\n",
    "To ensure that your model is correctly defined, the last cell in your notebook for this section should contain the following lines, with the correct handle for your neural network class:\n",
    "\n",
    "```{python}\n",
    "model = your_network_class(appropriate_arguments)\n",
    "print(model(train_x).shape)\n",
    "```\n",
    "\n",
    "**Answer Here**"
   ]
  },
  {
   "cell_type": "code",
   "execution_count": null,
   "metadata": {
    "id": "4nxSYkZxTvS0"
   },
   "outputs": [],
   "source": [
    "device = torch.device('cuda' if torch.cuda.is_available() else 'cpu') \n",
    "class NeuralNetwork(nn.Module):\n",
    "    def __init__(self, insize):\n",
    "        super().__init__()\n",
    "        self.flatten = nn.Flatten()\n",
    "        self.fc1 = nn.Linear(insize, 14)\n",
    "        self.fc2 = nn.Linear(14, 6 )\n",
    "        self.fc3 = nn.Linear(6, 1 )\n",
    "\n",
    "        \n",
    "    def forward(self, x):\n",
    " #       x = self.flatten(x)\n",
    "        x = F.relu(self.fc1(x))\n",
    "        x = F.relu(self.fc2(x))\n",
    "\n",
    "        x = self.fc3(x)\n",
    "        return x\n",
    "model = NeuralNetwork(2)\n",
    "\n",
    "print(model(train_x).shape)"
   ]
  },
  {
   "cell_type": "markdown",
   "metadata": {
    "id": "UCmHCDDeOLxT"
   },
   "source": [
    "### Part B: Training\n",
    "\n",
    "Write and execute code to train your neural network. You should train with SGD, using the `torch.nn.BCEWithLogitsLoss` loss function. Tune your network and training routine until you get **at least 90% training accuracy**. You should think about changing: width and depth of your network, the learning rate of your optimizer, the number of training iterations, and including bias terms in your network layers.\n",
    "\n",
    "After your model is trained plot the predicted function using the `plotter` function. Report the _test_ accuracy achieved by your model as well as the architecture of your network - how many layers did you use, how wide was each layer, did you include a bias term, etc.\n",
    "\n",
    "\n",
    "**Note**: with the right network setup you can achieve this training accuracy in less than 5 seconds on a laptop, you can use a large model that takes longer to train if you want, but be advised that you don't _need_ a large model to be successful here. \n",
    "\n",
    "**Answer Here**"
   ]
  },
  {
   "cell_type": "code",
   "execution_count": null,
   "metadata": {
    "id": "jC-gE7kNjBaS"
   },
   "outputs": [],
   "source": [
    "print(torch.cuda.get_device_name(0))"
   ]
  },
  {
   "cell_type": "code",
   "execution_count": null,
   "metadata": {
    "id": "LoHI5JvJTvS0"
   },
   "outputs": [],
   "source": [
    "batch_size= 50\n",
    "training_dataset= torch.utils.data.TensorDataset(train_x, train_y)\n",
    "train_dataloader = torch.utils.data.DataLoader(training_dataset, batch_size=batch_size, shuffle= True)\n",
    "loss_fn = nn.BCEWithLogitsLoss()\n",
    "optimizer = torch.optim.SGD(model.parameters(), lr=0.1, weight_decay=0.0001)\n",
    "\n",
    "n_epoch=5000\n",
    "schedule = torch.optim.lr_scheduler.CosineAnnealingLR(optimizer, T_max=n_epoch)\n",
    "\n",
    "def train(dataloader, model, loss_fn, optim):\n",
    "    size = len(dataloader.dataset)\n",
    "    for epoch in range(n_epoch):\n",
    "        acc_loss = 0.\n",
    "        for batch, (X, y) in enumerate(dataloader):\n",
    "            pred = model(X)\n",
    "            loss = loss_fn(pred, y)\n",
    "            # Backpropagation\n",
    "            optimizer.zero_grad()\n",
    "            loss.backward()\n",
    "            optimizer.step()\n",
    "            schedule.step()\n",
    "        if (epoch%100==0):\n",
    "          acc=accuracy(model,train_x,train_y)\n",
    "          print(\"Epoch {:d},  Accuracy = {:.2f}\".format(epoch,acc))\n",
    "          if(acc>90):\n",
    "            print (acc)\n",
    "            break\n",
    "\n",
    "train(train_dataloader, model, loss_fn, optimizer)\n",
    "plotter(model, train_x, train_y, test_x, test_y)"
   ]
  },
  {
   "cell_type": "markdown",
   "metadata": {
    "id": "7HIVNc1LOLxV"
   },
   "source": [
    "## Question 3: Convolutional Networks and Image Recognition\n",
    "\n",
    "In this question we are going to build up to larger models on larger datasets. If you don't already have access to a CUDA-enabled GPU you will need to complete this section of the homework on Google Colab. Google Colab allows you to run hardware accelerated notebooks online for free. By uploading this notebook into Colab then selecting `Runtime` -> `Change Runtime Type` -> And choosing `GPU` as your hardware accelerator you will be able to run your code on a GPU.\n",
    "\n",
    "Before starting we need to setup our data. We'll use the `torchvision` package to handle sourcing and normalizing the CIFAR-10 dataset, which we'll need to download to continue."
   ]
  },
  {
   "cell_type": "code",
   "execution_count": null,
   "metadata": {
    "id": "fFPe3yTOU2bw"
   },
   "outputs": [],
   "source": [
    "import torchvision\n",
    "import torchvision.transforms as transforms\n",
    "\n",
    "cuda0 = torch.device('cuda:0')\n",
    "device = cuda0"
   ]
  },
  {
   "cell_type": "markdown",
   "metadata": {
    "id": "s8AatrNEVCTD"
   },
   "source": [
    "The code cell below sets up a data transformation which casts the data to tensors (so we can pass it through a network), and normalizes each of the 3 RGB layers of the images. The first time you run this you will see a progress bar showing that the dataset is being downloaded. \n",
    "\n",
    "After running this code you will have a `trainloader` and a `testloader`. These are iterable python objects that allow you to sample mini-batches of data according the `batch_size` you passed in to the `DataLoader` function call. You can loop through the full dataset by running:\n",
    "```{python}\n",
    "for inputs, targets in trainloader:\n",
    "    ...\n",
    "```"
   ]
  },
  {
   "cell_type": "code",
   "execution_count": null,
   "metadata": {
    "id": "s6DBwhTqOLxV"
   },
   "outputs": [],
   "source": [
    "transform = transforms.Compose(\n",
    "    [transforms.ToTensor(),\n",
    "     transforms.Normalize((0.5, 0.5, 0.5), (0.5, 0.5, 0.5))])\n",
    "\n",
    "trainset = torchvision.datasets.CIFAR10(root='./data', train=True,\n",
    "                                        download=True, transform=transform)\n",
    "\n",
    "trainloader = torch.utils.data.DataLoader(trainset, batch_size=128,\n",
    "                                          shuffle=True, num_workers=2,\n",
    "                                          pin_memory=True)\n",
    "\n",
    "testset = torchvision.datasets.CIFAR10(root='./data', train=False,\n",
    "                                       download=True, transform=transform)\n",
    "testloader = torch.utils.data.DataLoader(testset, batch_size=128,\n",
    "                                         shuffle=False, num_workers=2,\n",
    "                                         pin_memory=True)"
   ]
  },
  {
   "cell_type": "markdown",
   "metadata": {
    "id": "3g4HUHGNZomQ"
   },
   "source": [
    "## Part A: Network Definition\n",
    "\n",
    "A common strategy for defining convolutional neural networks is to first pass the data through a set of convolutional layers to perform feature extraction, then to pass through a set of linear, or fully connected, layers to perform classification. \n",
    "\n",
    "Construct a class that defines a pytorch model to be used with CIFAR-10 containing the following layers, in order:\n",
    "\n",
    "- A convolutional layer outputting 8 channels with a kernel size of 3\n",
    "- A ReLU activation\n",
    "- A max-pooling layer with kernel size of 2\n",
    "- A convolutional layer outputting 16 channels with a kernel size of 3\n",
    "- A ReLU activation\n",
    "- A max-pooling layer with kernel size of 2\n",
    "- A convolutional layer outputting 32 channels with a kernel size of 3\n",
    "- A ReLU activation\n",
    "- A max-pooling layer with kernel size of 2\n",
    "  - After this operation you will need to reshape the outputs of the max-pooling layer to a tensor of size `batch_size` $\\times$ `128`\n",
    "- A linear layer with an output size of 128\n",
    "- A ReLU activation\n",
    "- A linear layer with an output size of 64\n",
    "- A ReLU activation\n",
    "- A linear layer with an output size of 10\n",
    "\n",
    "\n",
    "\n",
    "To show that your network is correctly implemented, after you define this class, create an instance of it and show that if you pass a batch of CIFAR-10 images from `trainloader` through the network you get an output of size `batch_size` $\\times$ `10`.\n",
    "\n",
    "**Answer Here**"
   ]
  },
  {
   "cell_type": "code",
   "execution_count": null,
   "metadata": {
    "id": "n-fn1cpsOwI1"
   },
   "outputs": [],
   "source": [
    "class CNN(nn.Module):\n",
    "    def __init__(self, batch_size):\n",
    "        super().__init__()\n",
    "        self.conv1 = nn.Conv2d(3,8,3)\n",
    "        self.conv2 = nn.Conv2d(8,16,3)\n",
    "        self.conv3 = nn.Conv2d(16,32,3)\n",
    "        self.fc1 = nn.Linear(128,128)\n",
    "        self.fc2 = nn.Linear(128,64 )\n",
    "        self.fc3 = nn.Linear(64,10 )\n",
    "        \n",
    "    def forward(self, x):\n",
    "        x = torch.nn.functional.max_pool2d(F.relu(self.conv1(x)),2)\n",
    "        x = torch.nn.functional.max_pool2d(F.relu(self.conv2(x)),2)\n",
    "        x = torch.nn.functional.max_pool2d(F.relu(self.conv3(x)),2)\n",
    "        x = torch.flatten(x, start_dim = 1)\n",
    "        x = F.relu(self.fc1(x))\n",
    "        x = F.relu(self.fc2(x))\n",
    "        x = self.fc3(x)\n",
    "        return x\n",
    "\n",
    "batch_CNN = 128\n",
    "model = CNN(batch_CNN)\n",
    "#model.to(device) \n",
    "for batch_CNN, (X, y) in enumerate(trainloader):\n",
    "#  X= X.to(device)\n",
    "#\n",
    "  y= y.to(device)\n",
    "  print(model(X).shape)\n",
    "  break"
   ]
  },
  {
   "cell_type": "markdown",
   "metadata": {
    "id": "SP23T_irybRd"
   },
   "source": [
    "## Part B: Training Loop\n",
    "\n",
    "Using `torch.nn.CrossEntropyLoss` as your objective function and `torch.optim.SGD` as your optimizer. Train your network for 2 epochs while running on a _CPU_ using a batch size of 128. How long does it take? \n",
    "\n",
    "**Answer Here**"
   ]
  },
  {
   "cell_type": "code",
   "execution_count": null,
   "metadata": {
    "id": "w0Hs-5ujZHpY"
   },
   "outputs": [],
   "source": [
    "start = torch.cuda.Event(enable_timing=True)\n",
    "end = torch.cuda.Event(enable_timing=True)\n",
    "loss_fn = nn.CrossEntropyLoss()\n",
    "optimizer = torch.optim.SGD(model.parameters(),lr=0.1)\n",
    "n_epoch=2\n",
    "def train_CNN_CPU(dataloader, model, loss_fn, optim, n_epoch):\n",
    "    start.record()\n",
    "    size = len(dataloader.dataset)\n",
    "    for epoch in range(n_epoch):\n",
    "        acc_loss = 0.\n",
    "        for X, y in dataloader:\n",
    "            pred = model(X)\n",
    "            loss = loss_fn(pred, y)\n",
    "            # Backpropagation\n",
    "            optimizer.zero_grad()\n",
    "            loss.backward()\n",
    "            optimizer.step()\n",
    "    end.record()\n",
    "    torch.cuda.synchronize()\n",
    "    time = start.elapsed_time(end)\n",
    "    print(\"time consumed running on CPU = {:.2f} s \".format(time/1000.0))\n",
    "    \n",
    "\n",
    "train_CNN_CPU(trainloader, model, loss_fn, optimizer,2)"
   ]
  },
  {
   "cell_type": "markdown",
   "metadata": {
    "id": "Oajg3e4Ry5zx"
   },
   "source": [
    "## Part C: Porting to a GPU\n",
    "\n",
    "CUDA-enabled GPUs can speed up training time signficantly, and have really enabled the widespread success of neural networks. Using a GPU, reinitialize your network and train for 2 epochs using a batch size of 128. How long does 2 epochs of training take? If you are correctly utilizing a GPU a single epoch should take only about 50-60% as much time as in Part B. \n",
    "\n",
    "To be sure you are doing things correctly: if you have a torch tensor, `X`, you can see what device it is on using the command `X.device`; if the tensor is stored on the GPU you will see `type='cuda'` in the output.\n",
    "\n",
    "**Answer Here**"
   ]
  },
  {
   "cell_type": "code",
   "execution_count": null,
   "metadata": {
    "id": "AW6xv29Wb823"
   },
   "outputs": [],
   "source": [
    "model.to(device) \n",
    "\n",
    "def train_CNN_GPU(dataloader, model, loss_fn, optim,n_epoch):\n",
    "    start.record()\n",
    "    size = len(dataloader.dataset)\n",
    "    for epoch in range(n_epoch):\n",
    "        acc_loss = 0.\n",
    "        for X, y in dataloader:\n",
    "            X = X.to(device)\n",
    "            y = y.to(device)\n",
    "            pred = model(X)\n",
    "            loss = loss_fn(pred, y)\n",
    "            # Backpropagation\n",
    "            optimizer.zero_grad()\n",
    "            loss.backward()\n",
    "            optimizer.step()\n",
    "    end.record()\n",
    "    torch.cuda.synchronize()\n",
    "    time = start.elapsed_time(end)\n",
    "    print(\"time consumed running on GPU = {:.2f} s \".format(time/1000.0))\n",
    "    \n",
    "\n",
    "train_CNN_GPU(trainloader, model, loss_fn, optimizer,2)"
   ]
  },
  {
   "cell_type": "markdown",
   "metadata": {
    "id": "YTOahDvK1Sqm"
   },
   "source": [
    "## Part D: Training Your Network\n",
    "\n",
    "Now you're going to fully train your network on CIFAR-10. Using SGD with a learning rate of 0.01 and a momentum parameter of 0.9 train your network for 30 epochs using a GPU. \n",
    "\n",
    "You should log the training accuracy and average loss per training input at every epoch, and test accuracy and average loss per test input every other epoch. Make sure that you are **not** training the network when evaluating the performance on testing data. \n",
    "\n",
    "If you have constructed your network and your training loop correctly training your network should take about 5-10 minutes, including the evaluation on the test data. If it is taking significantly longer than that make sure that you are utilizing the GPU correctly, and that you are not doing any redundant computations in your code. \n",
    "\n",
    "**Answer Here**"
   ]
  },
  {
   "cell_type": "code",
   "execution_count": null,
   "metadata": {
    "id": "Ehj52pWLfDjM"
   },
   "outputs": [],
   "source": [
    "model = CNN(batch_CNN)\n",
    "model.to(device) \n",
    "accuracy_list_train=[]\n",
    "accuracy_list_test=[]\n",
    "loss_list_train=[]\n",
    "loss_list_test=[]\n",
    "def accuracy1(model, dataloader):\n",
    "    acc_loss1 = 0.\n",
    "    n_correct1 = 0\n",
    "    for X, y in dataloader:\n",
    "        X = X.to(device)\n",
    "        y = y.to(device)\n",
    "        pred1 = model(X).to(device)\n",
    "        loss1 = loss_fn(pred1, y)\n",
    "        acc_loss1 += loss1.item()\n",
    "        n_correct1 += torch.sum(torch.argmax(pred1, -1) == y)\n",
    "    print(\"\\t  testset Loss = {:.6f}; Accuracy = {:.2f}\".format( acc_loss1/len(testset), 100*n_correct1.item()/len(testset)))\n",
    "    accuracy_list_test.append(100*n_correct1.item()/len(testset))\n",
    "    loss_list_test.append(acc_loss1/len(testset))\n",
    "def train_CNN_GPU1(dataloader, model, loss_fn, optim,n_epoch):\n",
    "    size = len(dataloader.dataset)\n",
    "    for epoch in range(n_epoch):\n",
    "        acc_loss = 0.\n",
    "        n_correct = 0\n",
    "        for X, y in dataloader:\n",
    "            X = X.to(device)\n",
    "            y = y.to(device)\n",
    "            pred = model(X).to(device)\n",
    "            loss = loss_fn(pred, y)\n",
    "            # Backpropagation\n",
    "            optimizer.zero_grad()\n",
    "            loss.backward()\n",
    "            acc_loss += loss.item()\n",
    "            n_correct += torch.sum(torch.argmax(pred, -1) == y)\n",
    "#            print(torch.argmax(pred, -1))\n",
    "#            print(y)\n",
    "\n",
    "            optimizer.step()\n",
    "        print(\"Epoch {:d}, trainset Loss = {:.6f}; Accuracy = {:.2f}\".format(epoch, acc_loss/len(trainset), 100*n_correct.item()/len(trainset)))\n",
    "        accuracy_list_train.append(100*n_correct.item()/len(trainset))\n",
    "        loss_list_train.append(acc_loss/len(trainset))\n",
    "        accuracy1(model, testloader)\n",
    "optimizer = torch.optim.SGD(model.parameters(), lr=0.01, momentum = 0.9)\n",
    "epoch1= 30\n",
    "train_CNN_GPU1(trainloader, model, loss_fn, optimizer, epoch1)\n"
   ]
  },
  {
   "cell_type": "code",
   "execution_count": null,
   "metadata": {
    "id": "p7G3NSqatfRg"
   },
   "outputs": [],
   "source": []
  },
  {
   "cell_type": "markdown",
   "metadata": {
    "id": "gTBmtwAkSdCa"
   },
   "source": [
    "## Part E: Examining Your Results\n",
    "\n",
    "Take the stored training and testing evaluations from the previous question and make two plots:\n",
    "  1. A plot of loss vs. time including curves for both training and testing,\n",
    "  2. A plot of accuracy vs. time including curves for both training and testing.\n",
    "\n",
    "You should see the gap between the performance of your model start to increase as training progresses. This gap is referred to as the _generalization gap_. Why do you think the generalization gap grows later in training, and why might this be an issue for neural networks specifically.\n",
    "\n",
    "\n",
    "Please use the following function to compute the accuracy of your trained network - you should **not** need to modify this function."
   ]
  },
  {
   "cell_type": "code",
   "execution_count": null,
   "metadata": {
    "id": "zbMZij2n-gvI"
   },
   "outputs": [],
   "source": [
    "def plot(loss_list_train,loss_list_test,accuracy_list_train,accuracy_list_test):\n",
    "    fig1=plt.figure(dpi=100)\n",
    "    plt.plot(loss_list_train, alpha=0.75, label=\"training loss\")\n",
    "    plt.plot(loss_list_test, alpha=0.75, label=\"testing loss\")\n",
    "    plt.ylabel(\"Loss\")\n",
    "    plt.xlabel(\"epoch \")\n",
    "    sns.despine()\n",
    "    plt.legend()\n",
    "    plt.show()\n",
    "\n",
    "    fig2=plt.figure(dpi=100)\n",
    "    plt.plot(accuracy_list_train, alpha=0.75, label=\"training accuracy\")\n",
    "    plt.plot(accuracy_list_test, alpha=0.75, label=\"testing accuracy\")\n",
    "    plt.ylabel(\"Accuracy\")\n",
    "    plt.xlabel(\"epoch \")\n",
    "    sns.despine()\n",
    "    plt.legend()\n",
    "    plt.show()\n",
    "\n",
    "def cifar_accuracy(net, loader):\n",
    "    acc = 0\n",
    "    total_num = 0\n",
    "    for inputs, labels in loader:\n",
    "        inputs, labels = inputs.cuda(), labels.cuda()\n",
    "        total_num += inputs.shape[0]\n",
    "        with torch.no_grad():\n",
    "            outputs = net(inputs)\n",
    "\n",
    "            _, predicted = torch.max(outputs.data, 1)\n",
    "            acc += (predicted == labels).sum().item()\n",
    "\n",
    "    return acc/total_num\n",
    "    \n",
    "plot(loss_list_train,loss_list_test,accuracy_list_train,accuracy_list_test)\n"
   ]
  },
  {
   "cell_type": "markdown",
   "metadata": {
    "id": "1qScI83RTvS3"
   },
   "source": [
    "**Answer Here**"
   ]
  },
  {
   "cell_type": "markdown",
   "metadata": {
    "id": "CbHzDO-M_5wM"
   },
   "source": [
    "## Part F: Closing the generalization gap\n",
    "\n",
    "Re-initialize and re-train your CNN in a way that will reduce the overall generalization gap. There are a lot of ways you can do this, including writing your own custom loss function to use, or simply making the right modifications to the optimizer you are using. \n",
    "\n",
    "Again make the following two plots:\n",
    "  1. A plot of loss vs. time including curves for both training and testing,\n",
    "  2. A plot of accuracy vs. time including curves for both training and testing.\n",
    "\n",
    "What do you observe?\n",
    "\n",
    "A note: you may not see dramatic improvement here, because we are using a fairly small model, however this type of thinking and the problem of closing the generalization gap is an important consideration in how we train very large state of the art models.\n",
    "\n",
    "**Answer Here**"
   ]
  },
  {
   "cell_type": "code",
   "execution_count": null,
   "metadata": {
    "id": "ZJOrcRFUsdyx"
   },
   "outputs": [],
   "source": [
    "model = CNN(batch_CNN)\n",
    "model.to(device) \n",
    "accuracy_list_train1=[]\n",
    "accuracy_list_test1=[]\n",
    "loss_list_train1=[]\n",
    "loss_list_test1=[]\n",
    "def accuracy2(model, dataloader):\n",
    "    acc_loss1 = 0.\n",
    "    n_correct1 = 0\n",
    "    for X, y in dataloader:\n",
    "        X = X.to(device)\n",
    "        y = y.to(device)\n",
    "        pred1 = model(X).to(device)\n",
    "        loss1 = loss_fn(pred1, y)\n",
    "        acc_loss1 += loss1.item()\n",
    "        n_correct1 += torch.sum(torch.argmax(pred1, -1) == y)\n",
    "    print(\"\\t  testset Loss = {:.6f}; Accuracy = {:.2f}\".format( acc_loss1/len(testset), 100*n_correct1.item()/len(testset)))\n",
    "    accuracy_list_test1.append(100*n_correct1.item()/len(testset))\n",
    "    loss_list_test1.append(acc_loss1/len(testset))\n",
    "def train_CNN_GPU2(dataloader, model, loss_fn, optim,n_epoch):\n",
    "    size = len(dataloader.dataset)\n",
    "    for epoch in range(n_epoch):\n",
    "        acc_loss = 0.\n",
    "        n_correct = 0\n",
    "        for X, y in dataloader:\n",
    "            X = X.to(device)\n",
    "            y = y.to(device)\n",
    "            pred = model(X).to(device)\n",
    "            loss = loss_fn(pred, y)\n",
    "            # Backpropagation\n",
    "            optimizer.zero_grad()\n",
    "            loss.backward()\n",
    "            acc_loss += loss.item()\n",
    "            n_correct += torch.sum(torch.argmax(pred, -1) == y)\n",
    "#            print(torch.argmax(pred, -1))\n",
    "#            print(y)\n",
    "\n",
    "            optimizer.step()\n",
    "            schedule.step()\n",
    "        print(\"Epoch {:d}, trainset Loss = {:.6f}; Accuracy = {:.2f}\".format(epoch, acc_loss/len(trainset), 100*n_correct.item()/len(trainset)))\n",
    "        accuracy_list_train1.append(100*n_correct.item()/len(trainset))\n",
    "        loss_list_train1.append(acc_loss/len(trainset))\n",
    "        accuracy2(model, testloader)\n",
    "optimizer = torch.optim.SGD(model.parameters(), lr=0.02, momentum = 0.9, weight_decay=0.001)\n",
    "schedule = torch.optim.lr_scheduler.CosineAnnealingLR(optimizer, T_max=n_epoch)\n",
    "epoch1= 30\n",
    "train_CNN_GPU2(trainloader, model, loss_fn, optimizer, epoch1)\n",
    "plot(loss_list_train,loss_list_test,accuracy_list_train,accuracy_list_test)\n"
   ]
  },
  {
   "cell_type": "markdown",
   "metadata": {
    "id": "zfGNLMVer90p"
   },
   "source": [
    "I use the adapative learning rate, and set the initial learning rate higher as it might be helpful to find a wider local minima and better generalization. Second, I set a weight decay value of 0.001 which is a regularization term to prevent the model from overfitting and therefore generalize better. When I train the network, the accuracy rate goes from (76.00, 65.86) to (73.30, 67.05)"
   ]
  },
  {
   "cell_type": "markdown",
   "metadata": {
    "id": "omhuO6gviAvV"
   },
   "source": [
    "## Part G: Final Step!\n",
    "\n",
    "Now that we've seen how well even simple CNNs can perform at image classification, let's go back and use our trained models to understand what convolutional layers are doing to help classify images. \n",
    "\n",
    "In this step you'll need to take a single image and pass it through just the first convolutional layer in your _trained_ network. \n",
    "The input to your first convolutional layer should have dimensions $1 \\times 3 \\times 32 \\times 32$ and the output should have dimensions $1 \\times 8 \\times 30 \\times 30$. \n",
    "\n",
    "Now, take your output and make a figure containing $9$ subplots in a $3 \\times 3$ grid. The first entry in the subplot should be the image you passed through your convolutional layer, and the $8$ remaining subplots should contain each of the channels output by your convolutional layer as $30\\times 30$ images.\n",
    "\n",
    "You should see that each of the channels output by the convolutional filter highlights a different component of the input image - this behavior is central to the success of CNN! They are able to decompose the image into distinct features and use those features to classify images. Once you have your code working try generating your plot with different input images and see what patterns you can pick up on. Note that not all examples will look great, since the images are very low resolution. And congratulations on building and training your first neural networks!\n",
    "\n",
    "**Hints:** If you have an $n \\times m$ array you can plot it using the `plt.imshow` command, and if you have an $n \\times m \\times 3$ array, using this same command will generate a color plot where the last dimension is interepreted as the RGB channels. You will need to normalize your tensors so that their entries are in $[0, 1]$ for the plots to be rendered correctly.\n",
    "\n",
    "Thus, to plot your input image which should be a torch tensor with dimensions $1 \\times 3 \\times 32 \\times 32$, after you normalize it you can call:\n",
    "```\n",
    "plt.imshow(normalized_input[0].transpose(2, 1).transpose(0, 2))\n",
    "```\n",
    "\n",
    "**Answer Here**"
   ]
  },
  {
   "cell_type": "code",
   "execution_count": null,
   "metadata": {
    "id": "F0XiNpoHTvS3"
   },
   "outputs": [],
   "source": [
    "trainloader = torch.utils.data.DataLoader(trainset, batch_size=1,\n",
    "                                          shuffle=True, num_workers=2,\n",
    "                                          pin_memory=True)\n",
    "class oneConv(nn.Module):\n",
    "    def __init__(self, batch_size):\n",
    "        super().__init__()\n",
    "        self.conv1 = nn.Conv2d(3,8,3)\n",
    "\n",
    "    def forward(self, x):  \n",
    "        x = self.conv1(x)\n",
    "        return x\n",
    "\n",
    "def normalization(a):\n",
    "  min = torch.min(a)     \n",
    "  max = torch.max(a)\n",
    "  normalized = (a- min) / (max-min)\n",
    "  return normalized\n",
    "\n",
    "oneConv = oneConv(1)\n",
    "list=[]\n",
    "for (X, y) in trainloader:\n",
    "  list = oneConv(X)\n",
    "  normalized_input = normalization(list[0])\n",
    "  fig, axes = plt.subplots(figsize=(10, 10), nrows=3, ncols=3, sharex=True, sharey=True)\n",
    "  count=0\n",
    "  normalized_input_filter = normalization(list).detach().numpy()\n",
    "  for i in range(3):\n",
    "      for j in range(3):\n",
    "          if((i == 0) & (j == 0)):\n",
    "              normalized_input = normalization(X)\n",
    "              axes[i,j].imshow(normalized_input[0].transpose(2, 1).transpose(0, 2))\n",
    "          else:\n",
    "              axes[i,j].imshow(normalized_input_filter[0, count-1, :, :], cmap='gray')\n",
    "              count=count+1\n",
    "  break\n"
   ]
  },
  {
   "cell_type": "code",
   "execution_count": null,
   "metadata": {
    "id": "2BcI5ozF3ErE"
   },
   "outputs": [],
   "source": [
    "reak"
   ]
  },
  {
   "cell_type": "markdown",
   "metadata": {
    "id": "6Ll0yMREr819"
   },
   "source": []
  }
 ],
 "metadata": {
  "accelerator": "GPU",
  "colab": {
   "collapsed_sections": [
    "C_M9dWWhK5nY",
    "3gV349FCK8Vf",
    "lj2Eh2bxK-T-"
   ],
   "name": "HW3 (1)-2.ipynb",
   "private_outputs": true,
   "provenance": []
  },
  "kernelspec": {
   "display_name": "Python 3",
   "language": "python",
   "name": "python3"
  },
  "language_info": {
   "codemirror_mode": {
    "name": "ipython",
    "version": 3
   },
   "file_extension": ".py",
   "mimetype": "text/x-python",
   "name": "python",
   "nbconvert_exporter": "python",
   "pygments_lexer": "ipython3",
   "version": "3.8.5"
  }
 },
 "nbformat": 4,
 "nbformat_minor": 4
}
