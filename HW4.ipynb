{
 "cells": [
  {
   "cell_type": "markdown",
   "metadata": {},
   "source": [
    "# Homework 4"
   ]
  },
  {
   "cell_type": "markdown",
   "metadata": {},
   "source": [
    "## Question Ideas\n",
    "\n",
    "- Dimensionality Reduction\n",
    "    - Data with some _true_ underlying dimensionality, can the students recover the true dimensionality of the data? \n",
    "    "
   ]
  },
  {
   "cell_type": "code",
   "execution_count": 2,
   "metadata": {},
   "outputs": [],
   "source": [
    "import numpy as np\n",
    "import matplotlib.pyplot as plt\n",
    "%matplotlib inline\n",
    "\n",
    "from sklearn import datasets\n",
    "from sklearn.feature_extraction.text import TfidfVectorizer, CountVectorizer\n",
    "\n",
    "from sklearn.decomposition import PCA, NMF"
   ]
  },
  {
   "cell_type": "markdown",
   "metadata": {},
   "source": [
    "## Question 0. Getting Data\n",
    "\n",
    "**For this part there is nothing to implement**\n",
    "\n",
    "However, please review the documentation for [TfidfVectorizer](https://scikit-learn.org/stable/modules/generated/sklearn.feature_extraction.text.TfidfVectorizer.html) and [CountVectorizer](https://scikit-learn.org/stable/modules/generated/sklearn.feature_extraction.text.CountVectorizer.html) to see what these functions do.  Here is more information on the [dataset](https://scikit-learn.org/0.19/datasets/twenty_newsgroups.html).\n",
    "\n",
    "\n",
    "Recall that for dimensionality reduction we form the matrix\n",
    "$$\n",
    "{\\bf X} = [{\\bf x}_1; {\\bf x}_2; \\ldots; {\\bf x}_N] \\in \\mathbb{R}^{d\\times N}\n",
    "$$\n",
    "where ${\\bf x}_i \\in \\mathbb{R}^d$ is the dimension of the data and $N$ is the number of training points.  We want to find a **dictionary** matrix ${\\bf W}$ and a **code** matrix ${\\bf Z}$ such that ${\\bf X} \\approx {\\bf WZ}$.  Dimensionality reduction comes in when we select ${\\bf W} \\in \\mathbb{R}^{d \\times q}$ and ${\\bf Z} \\in \\mathbb{R}^{q\\times N}$ with $q \\ll d$."
   ]
  },
  {
   "cell_type": "code",
   "execution_count": 3,
   "metadata": {},
   "outputs": [
    {
     "name": "stdout",
     "output_type": "stream",
     "text": [
      "X has shape (d, N) =  (1771, 2369)\n"
     ]
    }
   ],
   "source": [
    "# Load in the data.\n",
    "newsgroups_train = datasets.fetch_20newsgroups(subset='train', \n",
    "                                               categories=['comp.sys.mac.hardware', 'rec.motorcycles', 'sci.med', 'soc.religion.christian'])\n",
    "\n",
    "tfidf_vectorizer = TfidfVectorizer(min_df = 30)\n",
    "\n",
    "# The data matrix X and the targets y.\n",
    "X = (tfidf_vectorizer.fit_transform(newsgroups_train.data).T).todense()\n",
    "y = newsgroups_train.target\n",
    "\n",
    "(d, N) = X.shape\n",
    "print(\"X has shape (d, N) = \", X.shape)\n",
    "\n",
    "# The reduced dimension.\n",
    "q = 5"
   ]
  },
  {
   "cell_type": "markdown",
   "metadata": {},
   "source": [
    "## Question 1. Training with PCA\n",
    "\n",
    "### Part (a)\n",
    "Using the PCA implemented in Sci-Kit learn, obtain the low-dimensional projection of ${\\bf X}$ (i.e. get ${\\bf W}$ and ${\\bf Z}$) for when $q = 5$.  Read the documentation [here](https://scikit-learn.org/stable/modules/generated/sklearn.decomposition.PCA.html) carefully.  In particular, make sure you are computing the correct ${\\bf W}$ and ${\\bf Z}$."
   ]
  },
  {
   "cell_type": "code",
   "execution_count": 4,
   "metadata": {},
   "outputs": [
    {
     "name": "stdout",
     "output_type": "stream",
     "text": [
      "W has shape  (1771, 5)\n",
      "Z has shape  (5, 2369)\n"
     ]
    }
   ],
   "source": [
    "pca = PCA(n_components=q)\n",
    "pca.fit(X.T)\n",
    "Z = pca.fit_transform(X.T).T\n",
    "W = pca.components_.T\n",
    "\n",
    "print(\"W has shape \", W.shape)\n",
    "print(\"Z has shape \", Z.shape)"
   ]
  },
  {
   "cell_type": "markdown",
   "metadata": {},
   "source": [
    "### Part (b)\n",
    "\n",
    "The matrix ${\\bf Z} = [{\\bf z}_1,\\ldots,{\\bf z}_N]$ is the matrix of the reduced data.  Make a scatter plot of the data projected onto its first two principal components.  In other words, form a scatter plot of all the ${\\bf z}_i$ with the first component as the $x$-axis and the second component as the $y$-axis.  Set the color bar so that the points are colored corresponding to their target label ${\\bf y}$ (which was defined earlier in the code)."
   ]
  },
  {
   "cell_type": "code",
   "execution_count": 6,
   "metadata": {},
   "outputs": [
    {
     "ename": "NameError",
     "evalue": "name 'sns' is not defined",
     "output_type": "error",
     "traceback": [
      "\u001b[0;31m---------------------------------------------------------------------------\u001b[0m",
      "\u001b[0;31mNameError\u001b[0m                                 Traceback (most recent call last)",
      "\u001b[0;32m<ipython-input-6-518aecc19500>\u001b[0m in \u001b[0;36m<module>\u001b[0;34m\u001b[0m\n\u001b[1;32m      9\u001b[0m \u001b[0;31m#legend1 = ax.legend(*scatter.legend_elements(),\u001b[0m\u001b[0;34m\u001b[0m\u001b[0;34m\u001b[0m\u001b[0;34m\u001b[0m\u001b[0m\n\u001b[1;32m     10\u001b[0m \u001b[0;31m#                    loc='center right', title=\"\", bbox_to_anchor=(1.25, 0.5))\u001b[0m\u001b[0;34m\u001b[0m\u001b[0;34m\u001b[0m\u001b[0;34m\u001b[0m\u001b[0m\n\u001b[0;32m---> 11\u001b[0;31m \u001b[0msns\u001b[0m\u001b[0;34m.\u001b[0m\u001b[0mscatterplot\u001b[0m\u001b[0;34m(\u001b[0m\u001b[0mZ\u001b[0m\u001b[0;34m[\u001b[0m\u001b[0;36m0\u001b[0m\u001b[0;34m]\u001b[0m\u001b[0;34m,\u001b[0m \u001b[0mZ\u001b[0m\u001b[0;34m[\u001b[0m\u001b[0;36m1\u001b[0m\u001b[0;34m]\u001b[0m\u001b[0;34m,\u001b[0m \u001b[0ms\u001b[0m \u001b[0;34m=\u001b[0m \u001b[0;36m10\u001b[0m\u001b[0;34m,\u001b[0m \u001b[0mhue\u001b[0m \u001b[0;34m=\u001b[0m \u001b[0my\u001b[0m\u001b[0;34m)\u001b[0m\u001b[0;34m\u001b[0m\u001b[0;34m\u001b[0m\u001b[0m\n\u001b[0m\u001b[1;32m     12\u001b[0m \u001b[0;31m#ax.add_artist(legend1)\u001b[0m\u001b[0;34m\u001b[0m\u001b[0;34m\u001b[0m\u001b[0;34m\u001b[0m\u001b[0m\n\u001b[1;32m     13\u001b[0m \u001b[0mplt\u001b[0m\u001b[0;34m.\u001b[0m\u001b[0mshow\u001b[0m\u001b[0;34m(\u001b[0m\u001b[0;34m)\u001b[0m\u001b[0;34m\u001b[0m\u001b[0;34m\u001b[0m\u001b[0m\n",
      "\u001b[0;31mNameError\u001b[0m: name 'sns' is not defined"
     ]
    },
    {
     "data": {
      "image/png": "[encoded data removed]",
      "text/plain": [
       "<Figure size 900x600 with 1 Axes>"
      ]
     },
     "metadata": {
      "needs_background": "light"
     },
     "output_type": "display_data"
    }
   ],
   "source": [
    "## TO DO STARTS HERE ##\n",
    "\n",
    "component1= Z[0:1]\n",
    "component2= Z[1:2]\n",
    "fig, ax = plt.subplots(dpi=150)\n",
    "ax.set_xlabel('1st component')\n",
    "ax.set_ylabel('2nd component')\n",
    "#scatter = ax.scatter(component1, component2, c='blue', cmap='tab10')\n",
    "#legend1 = ax.legend(*scatter.legend_elements(),\n",
    "#                    loc='center right', title=\"\", bbox_to_anchor=(1.25, 0.5))\n",
    "sns.scatterplot(Z[0], Z[1], s = 10, hue = y)\n",
    "#ax.add_artist(legend1)\n",
    "plt.show()\n",
    "\n",
    "## TO DO ENDS HERE ##\n",
    "\n",
    "# Also print out the first q components.  There is nothing to do for this part.\n",
    "loadings = W.T\n",
    "invocab = dict([(vv,kk) for kk, vv in tfidf_vectorizer.vocabulary_.items()])\n",
    "\n",
    "for i in range(q):\n",
    "    insens_idx = np.argsort(loadings[i])\n",
    "\n",
    "    print ('COMPONENT ' + str(i + 1))\n",
    "    print (' '.join([invocab[w_ix] for w_ix in insens_idx[-10:]]) + '\\n')"
   ]
  },
  {
   "cell_type": "markdown",
   "metadata": {},
   "source": [
    "### Part (c)\n",
    "\n",
    "Recall that for PCA the dictionary and code matrices ${\\bf W},{\\bf Z}$ can be found using either an eigenvalue decomposition or the SVD.  Suppose the matrix ${\\bf X}$ is centered so that \n",
    "$$\n",
    "\\frac{1}{N}\\sum_{i = 1}^N {\\bf x}_i = \\vec{0} \\in \\mathbb{R}^d\n",
    "$$\n",
    "The covariance matrix is defined to be ${\\bf C} = {\\bf XX}^T$.  The eigen-decomposition of ${\\bf C} = {\\bf W\\Sigma W}^T$ gives the matrices ${\\bf W}$ and ${\\bf Z} = {\\bf \\Sigma W}^T$.  Here\n",
    "$$\n",
    "{\\bf \\Sigma} = \\begin{bmatrix}\n",
    "\\sigma_1^2 & & \\\\\n",
    " & \\ddots & \\\\\n",
    " & & \\sigma_d^2\n",
    "\\end{bmatrix}\n",
    "$$\n",
    "is the diagonal matrix with eigenvalues $\\sigma_i^2$.  The proportion of explained variance by our low-dimensional projection is defined to be\n",
    "$$\n",
    "\\mathrm{PV}(q) := \\frac{\\sum_{i=1}^q \\sigma_i^2}{\\sum_{i=1}^d \\sigma_i^2}\n",
    "$$\n",
    "Make a plot of $\\mathrm{PV}(q)$ versus $q$ for $q = 1,\\ldots,1000$.  For this you do not need to implement the procedure above on your own, but can instead use the Sci-kit learn PCA.  In particular, look at the `explained_variance_ratio_` attribute.  Make sure that your plot is clear with a title and labeled axes."
   ]
  },
  {
   "cell_type": "code",
   "execution_count": 7,
   "metadata": {},
   "outputs": [],
   "source": [
    "import seaborn as sns"
   ]
  },
  {
   "cell_type": "code",
   "execution_count": 8,
   "metadata": {},
   "outputs": [
    {
     "data": {
      "image/png": "[encoded data removed]",
      "text/plain": [
       "<Figure size 600x400 with 1 Axes>"
      ]
     },
     "metadata": {
      "needs_background": "light"
     },
     "output_type": "display_data"
    }
   ],
   "source": [
    "## TO DO STARTS HERE ##\n",
    "list = []\n",
    "pca = PCA(X.shape[0])\n",
    "pca.fit(X)\n",
    "for i in range(1,1000):\n",
    "    list.append(sum(pca.explained_variance_ratio_[:i]))\n",
    "    \n",
    "def plot_explained_variance():\n",
    "    fig1=plt.figure(dpi=100)\n",
    "    plt.plot(list , alpha=0.75, label=\"explained_variance\")\n",
    "    plt.ylabel(\"explained_variance\")\n",
    "    plt.xlabel(\"q\")\n",
    "    sns.despine()\n",
    "    plt.legend()\n",
    "    plt.show()\n",
    "plot_explained_variance()\n",
    "## TO DO ENDS HERE ##"
   ]
  },
  {
   "cell_type": "markdown",
   "metadata": {},
   "source": [
    "## Question 2.  Interpreting the principal components\n",
    "\n",
    "Consider the dataset\n",
    "$$\n",
    "{\\bf X} = [{\\bf x}_1; {\\bf x}_2; {\\bf x}_3] = \\begin{bmatrix}\n",
    "1 & 2 & 3\\\\\n",
    "1 & 2 & 3\n",
    "\\end{bmatrix}\n",
    "$$\n",
    "Although this data is 2-dimensional, it actually lives on the 1 dimensional line $x_1 = x_2$.  Without doing any computation, answer the following with short explanations:\n",
    "\n",
    "1.  What is the first principal component (i.e. first eigenvector)?  \n",
    "\n",
    "2.  What is the second principal component?\n",
    "\n",
    "3.  What is the proportion of variance explained by only the first principal component?\n",
    "\n",
    "4.  What are the matrices ${\\bf W}, {\\bf Z}$ when $q = 1$?  Normalize the columns of ${\\bf W}$ to have unit norm."
   ]
  },
  {
   "cell_type": "markdown",
   "metadata": {},
   "source": [
    "1. $\\vec{PC_1} = \\begin{bmatrix} 1 \\\\ 1 \\end{bmatrix}$ , the first principle component is the direction that minimizes the distance from the data point to the line the most \n",
    "\n",
    "2. $\\vec{PC_2} = \\begin{bmatrix} -1 \\\\1 \\end{bmatrix}$ ,th second principle componeng is perpendicular to the first component.\n",
    "\n",
    "3. 1, because the first principle component 100 percent represent the corresponding x1 and x2 value \n",
    "\n",
    "4.  ${\\bf W} \\in \\mathbb{R}^{2 \\times 1}$ and ${\\bf Z} \\in \\mathbb{R}^{1\\times 3}$\n",
    "\n",
    "$W = \\begin{bmatrix} \\frac{1}{\\sqrt{2}} \\\\ \\frac{1}{\\sqrt{2}} \\end{bmatrix}$ \n",
    "\n",
    "$Z = \\begin{bmatrix} -{\\sqrt{2}} & 0 &{\\sqrt{2}}\\end{bmatrix}$ \n",
    "\n",
    "\n"
   ]
  },
  {
   "cell_type": "markdown",
   "metadata": {},
   "source": [
    "**Answer goes here**"
   ]
  },
  {
   "cell_type": "markdown",
   "metadata": {},
   "source": [
    "## Question 3: Finding True Dimensionality\n",
    "\n",
    "I generated $N$ observations of $q$ dimensional data according to the following procedure\n",
    "\n",
    "$$\n",
    "\\begin{align}\n",
    "z_n &\\sim N(0, I_{q})\\\\\n",
    "X_n &= Wz_n + \\epsilon\n",
    "\\end{align}\n",
    "$$\n",
    "where $\\epsilon \\sim N(d, \\sigma^2I_{d})$ and $\\epsilon$, $W \\in \\mathbb{R}^{d \\times q}$, and $\\mu \\in \\mathbb{R}^q$ are fixed.\n",
    "\n",
    "More simply - we have created a simple dataset containing $N$ obersevations of $d=33$ dimensional observations stored in an $N \\times d$ array saved as `X.npy`.\n",
    "\n",
    "Your task is to give your best estimate for $q$, that is, what do you think is the _true_ dimensionality of the data? Then, using your best guess for $q$, report the percent of the variance in $X$ you can explain using just $q$ dimensions."
   ]
  },
  {
   "cell_type": "markdown",
   "metadata": {},
   "source": [
    "### Part A: PCA and Cross Validation\n",
    "\n",
    "Use PCA with Leave-One-Out cross validation to chose a value for $q$. You should use the SciKit-Learn implementation of PCA with the `pca.score` function to compute the log-likelihood of the heldout sample for each validation fold.\n",
    "\n",
    "Explicitly state your choice of $q$ and generate the PCA embeddings of $X$ in your $q$ dimensional space. What percent of the variability in `X` can you explain with just `q` dimensions?"
   ]
  },
  {
   "cell_type": "code",
   "execution_count": 10,
   "metadata": {},
   "outputs": [],
   "source": [
    "data = np.load(\"./x.npy\")"
   ]
  },
  {
   "cell_type": "code",
   "execution_count": 11,
   "metadata": {},
   "outputs": [
    {
     "name": "stdout",
     "output_type": "stream",
     "text": [
      "(500, 33)\n"
     ]
    }
   ],
   "source": [
    "print(data.shape)"
   ]
  },
  {
   "cell_type": "code",
   "execution_count": 12,
   "metadata": {},
   "outputs": [],
   "source": [
    "import sklearn.model_selection"
   ]
  },
  {
   "cell_type": "code",
   "execution_count": 13,
   "metadata": {},
   "outputs": [],
   "source": [
    "dim = np.arange(1,34)\n",
    "cv =  sklearn.model_selection.LeaveOneOut()\n",
    "err=np.zeros(33)\n",
    "for ll, dims in enumerate(dim):\n",
    "#    print(dims)\n",
    "    for train_ix, test_ix in cv.split(data):\n",
    "        data_train, data_test = data[train_ix], data[test_ix]\n",
    "        pca = PCA(n_components=dims)\n",
    "        pca.fit(data_train)\n",
    "        nll=-pca.score(data_test)\n",
    "        err[ll] += nll\n",
    "#    print(err[ll])        \n",
    "# calculate accuracy"
   ]
  },
  {
   "cell_type": "code",
   "execution_count": 14,
   "metadata": {},
   "outputs": [
    {
     "name": "stdout",
     "output_type": "stream",
     "text": [
      "3\n"
     ]
    },
    {
     "data": {
      "text/plain": [
       "58949.94918049989"
      ]
     },
     "execution_count": 14,
     "metadata": {},
     "output_type": "execute_result"
    }
   ],
   "source": [
    "print(err.argmin()+1)\n",
    "err.min()"
   ]
  },
  {
   "cell_type": "markdown",
   "metadata": {},
   "source": [
    "I choose number of PCA to be 3."
   ]
  },
  {
   "cell_type": "code",
   "execution_count": 15,
   "metadata": {},
   "outputs": [
    {
     "name": "stdout",
     "output_type": "stream",
     "text": [
      "0.3277436957145081\n"
     ]
    }
   ],
   "source": [
    "pca = PCA(n_components=3)\n",
    "embeds=pca.fit_transform(data)\n",
    "print(sum(pca.explained_variance_ratio_))"
   ]
  },
  {
   "cell_type": "markdown",
   "metadata": {},
   "source": [
    "32.77436957145081% of the variability can be explained by with 3 dimension "
   ]
  },
  {
   "cell_type": "markdown",
   "metadata": {},
   "source": [
    "### Part B: K-Means\n",
    "\n",
    "Now that you have your PCA embeddings in a $q$ dimensional space, choose an appropriate number of clusters and implement k-means to form predictions. \n",
    "\n",
    "\n",
    "Once you have clustered the data produce a scatter-plot of the clusters in the first two dimesions of your embeddings where the color of the points represents the cluster assignment. On this plot also include the cluster centers generated by k-means."
   ]
  },
  {
   "cell_type": "code",
   "execution_count": 26,
   "metadata": {},
   "outputs": [
    {
     "data": {
      "image/png": "[encoded data removed]",
      "text/plain": [
       "<Figure size 600x400 with 1 Axes>"
      ]
     },
     "metadata": {},
     "output_type": "display_data"
    },
    {
     "name": "stdout",
     "output_type": "stream",
     "text": [
      "Done at iteration 5\n"
     ]
    }
   ],
   "source": [
    "'''\n",
    "    X: data points, n_samples x dim\n",
    "    C: cluster centers, n_samples x dim\n",
    "    Z: cluster assignments, n_samples\n",
    "    K: # of centers\n",
    "'''\n",
    "def expectation(X, C):\n",
    "    return np.sum((X[:, np.newaxis, :] - C)**2, axis=-1).argmin(axis=-1)\n",
    "\n",
    "def plot_data(X, Z=None, C=None):\n",
    "\n",
    "    plt.figure(dpi=100)\n",
    "    if Z is None:\n",
    "        plt.scatter(X[:, 0], X[:, 1], c='m', marker='x', alpha=0.5)\n",
    "        if C is not None:\n",
    "            plt.scatter(C[:, 0], C[:, 1], c='b', marker='o', edgecolor='k')\n",
    "    else:\n",
    "        colors = ['r', 'g', 'b', 'c', 'y']\n",
    "\n",
    "        for k in range(C.shape[0]):\n",
    "            plt.scatter(X[Z == k, 0], X[Z == k, 1], c=colors[k], marker='x', alpha=0.5)\n",
    "            plt.scatter(C[k, 0], C[k, 1], c=colors[k], marker='o', edgecolor='k')\n",
    "\n",
    "\n",
    "    plt.xticks([])\n",
    "    plt.yticks([])\n",
    "    plt.show()\n",
    "\n",
    "def maximization(X, Z, K):\n",
    "\n",
    "    C_new = np.zeros((K, X.shape[-1]))\n",
    "    for k in range(K):\n",
    "        C_new[k, :] = np.mean(X[Z == k, :], axis=0)\n",
    "    return C_new\n",
    "\n",
    "data= embeds\n",
    "K = 4\n",
    "C = np.random.RandomState(36).randn(K, data.shape[-1])*2.5\n",
    "max_iter = 30\n",
    "eps = 1e-5\n",
    "\n",
    "Z_prev = expectation(data, C)\n",
    "C_prev = np.copy(C)\n",
    "\n",
    "for i in range(max_iter):\n",
    "    Z = expectation(data, C)\n",
    "    C = maximization(data, Z, K)\n",
    "    if ((Z_prev - Z) **2).sum() < eps and ((C_prev - C) ** 2).sum() < eps:\n",
    "        plot_data(data, Z, C)\n",
    "        print('Done at iteration', i)\n",
    "        break\n",
    "    \n",
    "    \n",
    "    Z_prev = np.copy(Z)\n",
    "    C_prev = np.copy(C)"
   ]
  },
  {
   "cell_type": "markdown",
   "metadata": {},
   "source": [
    "## Question 4: Evidence Lower Bound\n",
    "\n",
    "For a given joint probability distribution $p(\\mathbf{X},\\mathbf{Z}\\mid\\theta)$ of the data $\\mathbf{X}$ and underlying latent variables $\\mathbf{Z}$, parametrized by some parameters $\\theta$ show that we can decompose the marginal likelihood of data as\n",
    "\n",
    "$$\n",
    "\\log{p(\\mathbf{X}\\mid\\theta)} = \\underbrace{\\mathbb{E}_q[\\log{p(\\mathbf{X},\\mathbf{Z}\\mid\\theta)} - \\log{q(\\mathbf{Z})}]}_{\\mathcal{L}(q,\\theta)} + \\mathrm{KL}(q(\\mathbf{Z}) \\mid\\mid  p(\\mathbf{Z}\\mid\\mathbf{X},\\theta))\n",
    "$$\n",
    "\n",
    "where $q(\\mathbf{Z})$ is an approximation of the true posterior $p(\\mathbf{Z}\\mid\\mathbf{X},\\theta)$. Therefore, argue why $\\mathcal{L}(q,\\theta)$ is a lower bound on the $\\log$-marginal likelihood of the data. When will $\\mathcal{L}(q,\\theta)$ equal $\\log{\\mathbf{p(\\mathbf{X}\\mid\\theta)}}$?\n"
   ]
  },
  {
   "cell_type": "markdown",
   "metadata": {},
   "source": [
    "$\\mathrm{KL}(q(\\mathbf{Z}) \\mid\\mid  p(\\mathbf{Z}\\mid\\mathbf{X},\\theta))$measures the difference between the estimated posterior distribution of Z and probability of Z given X and $\\theta$, and since KL divergence is always positive $ {\\mathcal{L}(q,\\theta)}$$\\leq \\log{p(\\mathbf{X}\\mid\\theta)}$. $\\mathcal{L}(q,\\theta)$ is a lower bound on the $\\log$-marginal likelihood of the data.\n",
    "\n",
    "When $\\mathrm{KL}(q(\\mathbf{Z}) \\mid\\mid  p(\\mathbf{Z}\\mid\\mathbf{X},\\theta))=0$, which is  $ q(\\mathbf{Z}) = p(\\mathbf{Z}\\mid\\mathbf{X},\\theta)$,$\\mathcal{L}(q,\\theta)$ equal $\\log{\\mathbf{p(\\mathbf{X}\\mid\\theta)}}$ and $\\mathcal{L}(q,\\theta)$ is maximized.\n",
    "\n"
   ]
  },
  {
   "cell_type": "markdown",
   "metadata": {},
   "source": [
    "## Question 5: EM guarantees likelihood increase\n",
    "\n",
    "In general, the EM algorithm can be viewed through the lens of Evidence Lower Bound derived above. For a given value of parameters after the $t^{\\mathrm{th}}$ iteration, $\\theta_{t}$, the EM cycle can be described as:\n",
    "\n",
    "**E step:**\n",
    "$$\n",
    "q_{t+1}(\\mathbf{Z}) = \\arg\\max_{q} \\mathcal{L}(q,\\theta_t)\n",
    "$$\n",
    "\n",
    "**M step:**\n",
    "$$\n",
    "\\theta_{t+1} = \\arg\\max_{\\theta} \\mathcal{L}(q_{t+1},\\theta)\n",
    "$$\n",
    "\n",
    "With this view, argue that the EM algorithm always increases (or stays the same at an optimum) the $\\log$ likelihood of data $\\log{p(\\mathbf{X} | \\theta)}$ with each EM cycle. Does EM converge to the global optimum?\n",
    "\n",
    "**Answer Here**"
   ]
  },
  {
   "cell_type": "markdown",
   "metadata": {},
   "source": [
    "In the E Step, we maximize over the distribution of Z, which equals to minimizing the KL divergence to when it is 0\n",
    "\n",
    "In the M step,  we maximize over $\\theta$, \n",
    "\n",
    "$\\mathcal{L}(q,\\theta)= \\mathbb{E}_q[\\log{p(\\mathbf{X},\\mathbf{Z}\\mid\\theta)} - \\log{q(\\mathbf{Z})}]$ since we keep $q(\\mathbf{Z})$ is fixed, the log likelihood of joint distributinon $\\log{p(\\mathbf{X},\\mathbf{Z}\\mid\\theta_{t+1}) }$ will increase after we adjust the $\\theta $ to better fit the data\n",
    "\n",
    "and this will cause lower bound,$\\mathcal{L}(q,\\theta_{t+1})$, to increase which subsequently cause the log likelihood of data to increase, and $\\mathrm{KL}(q(\\mathbf{Z}) \\mid\\mid  p(\\mathbf{Z}\\mid\\mathbf{X},\\theta_{t+1}))$ will no longer be zero with new $\\theta$,  so the increase in log likelihood will be greater than the lower bound.\n",
    "\n",
    "EM does not necessarily converge to the global optimum, but it is garanteed to converge to local optimum."
   ]
  }
 ],
 "metadata": {
  "kernelspec": {
   "display_name": "Python 3",
   "language": "python",
   "name": "python3"
  },
  "language_info": {
   "codemirror_mode": {
    "name": "ipython",
    "version": 3
   },
   "file_extension": ".py",
   "mimetype": "text/x-python",
   "name": "python",
   "nbconvert_exporter": "python",
   "pygments_lexer": "ipython3",
   "version": "3.8.5"
  }
 },
 "nbformat": 4,
 "nbformat_minor": 5
}
