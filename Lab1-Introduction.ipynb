{
 "cells": [
  {
   "cell_type": "markdown",
   "metadata": {},
   "source": [
    "# Machine Learning: Tools of the Trade\n",
    "\n",
    "#### CSCI-UA 473 Introduction to Machine Learning"
   ]
  },
  {
   "cell_type": "markdown",
   "metadata": {},
   "source": [
    "## Introduction to NumPy\n",
    "\n",
    "NumPy (_Numerical Python_) provides an efficient interface to store and operate on data. This library is widely compatible with most other popular numerical libraries within the Python ecosystem."
   ]
  },
  {
   "cell_type": "code",
   "execution_count": 3,
   "metadata": {},
   "outputs": [],
   "source": [
    "import numpy as np"
   ]
  },
  {
   "cell_type": "markdown",
   "metadata": {},
   "source": [
    "The object of interest in NumPy will almost always be `array`.\n",
    "\n",
    "### Creation"
   ]
  },
  {
   "cell_type": "code",
   "execution_count": 4,
   "metadata": {},
   "outputs": [
    {
     "ename": "SyntaxError",
     "evalue": "invalid syntax (<ipython-input-4-bbdf448968d7>, line 6)",
     "output_type": "error",
     "traceback": [
      "\u001b[0;36m  File \u001b[0;32m\"<ipython-input-4-bbdf448968d7>\"\u001b[0;36m, line \u001b[0;32m6\u001b[0m\n\u001b[0;31m    **TIP**: Pull up documentation (when available) directly from the Jupyter notebook using `?np.array`. This will print the Python docstrings.\u001b[0m\n\u001b[0m    ^\u001b[0m\n\u001b[0;31mSyntaxError\u001b[0m\u001b[0;31m:\u001b[0m invalid syntax\n"
     ]
    }
   ],
   "source": [
    "x = [1,2,3,4,5]  ## The usual Python array\n",
    "x = np.array([1,2,3,4,5]) ## A NumPy array\n",
    "\n",
    "x   ## The output last statement in a notebook cell is printed by default, i.e. equivalent to print(x)\n",
    "\n",
    "**TIP**: Pull up documentation (when available) directly from the Jupyter notebook using `?np.array`. This will print the Python docstrings.\n",
    "\n",
    "x.dtype"
   ]
  },
  {
   "cell_type": "code",
   "execution_count": null,
   "metadata": {},
   "outputs": [],
   "source": [
    "x.astype(np.float64)"
   ]
  },
  {
   "cell_type": "markdown",
   "metadata": {},
   "source": [
    "Look for other possible types [here](https://numpy.org/doc/stable/user/basics.types.html)."
   ]
  },
  {
   "cell_type": "code",
   "execution_count": null,
   "metadata": {},
   "outputs": [],
   "source": [
    "x.shape"
   ]
  },
  {
   "cell_type": "markdown",
   "metadata": {},
   "source": [
    "#### Multi-dimensional arrays"
   ]
  },
  {
   "cell_type": "code",
   "execution_count": 6,
   "metadata": {},
   "outputs": [
    {
     "name": "stdout",
     "output_type": "stream",
     "text": [
      "[[ 1.  2.  3.  4.  5.]\n",
      " [ 6.  7.  8.  9. 10.]]\n",
      "Shape of M: (2, 5)\n",
      "Number of dimensions in M: 2\n"
     ]
    }
   ],
   "source": [
    "M = np.array([[1,2,3,4,5], [6,7,8,9,10]]).astype(np.float64)\n",
    "print(M)\n",
    "print(f'Shape of M: {M.shape}')\n",
    "print(f'Number of dimensions in M: {M.ndim}')"
   ]
  },
  {
   "cell_type": "code",
   "execution_count": 7,
   "metadata": {},
   "outputs": [
    {
     "name": "stdout",
     "output_type": "stream",
     "text": [
      "[[[0.60088009 0.80896513 0.17040742 0.39038036 0.62604164]\n",
      "  [0.50254653 0.07892314 0.10578484 0.33660597 0.79329496]\n",
      "  [0.26420581 0.30994277 0.31225862 0.35788746 0.73767658]\n",
      "  [0.87355725 0.95523726 0.1502337  0.9601097  0.1005065 ]]\n",
      "\n",
      " [[0.27565806 0.89082902 0.97250036 0.7515316  0.70463802]\n",
      "  [0.70776029 0.35398524 0.38303294 0.29734202 0.73166109]\n",
      "  [0.86430327 0.91066752 0.21493226 0.44807059 0.3969464 ]\n",
      "  [0.19733175 0.07136026 0.61966906 0.06331979 0.1837867 ]]\n",
      "\n",
      " [[0.79713593 0.23506067 0.23256497 0.3384677  0.91717951]\n",
      "  [0.3202295  0.36001323 0.80929225 0.58803133 0.71515088]\n",
      "  [0.46629363 0.26512902 0.80754717 0.68931963 0.82503039]\n",
      "  [0.59696798 0.39049764 0.39068775 0.02381431 0.5827232 ]]]\n",
      "Shape of M: (3, 4, 5)\n",
      "Number of dimensions in M: 3\n"
     ]
    }
   ],
   "source": [
    "M = np.random.random((3,4,5))\n",
    "print(M)\n",
    "print(f'Shape of M: {M.shape}')\n",
    "print(f'Number of dimensions in M: {M.ndim}')"
   ]
  },
  {
   "cell_type": "markdown",
   "metadata": {},
   "source": [
    "### Reshaping\n",
    "\n",
    "Often, we need to reshape the arrays for downstream operations. For instance, if we don't care about the spatial relations between the pixels of an image, we can reshape a $100 \\times 100$ grayscale image as a large $10000$-dimensional vector instead."
   ]
  },
  {
   "cell_type": "code",
   "execution_count": null,
   "metadata": {},
   "outputs": [],
   "source": [
    "M.shape"
   ]
  },
  {
   "cell_type": "code",
   "execution_count": null,
   "metadata": {},
   "outputs": [],
   "source": [
    "np.reshape(M, (3, 20))"
   ]
  },
  {
   "cell_type": "markdown",
   "metadata": {},
   "source": [
    "Or, we can leave the only dimension's calculation to NumPy and use $-1$ for the dimension size instead."
   ]
  },
  {
   "cell_type": "code",
   "execution_count": null,
   "metadata": {},
   "outputs": [],
   "source": [
    "np.reshape(M, (3, -1))"
   ]
  },
  {
   "cell_type": "markdown",
   "metadata": {},
   "source": [
    "#### Flattening\n",
    "\n",
    "By default, all reshapes happen in a row-major format, i.e. the reshape effectively happens by collecting items along the \"rows\"."
   ]
  },
  {
   "cell_type": "code",
   "execution_count": null,
   "metadata": {},
   "outputs": [],
   "source": [
    "print(np.reshape(M, -1))\n",
    "np.reshape(M, -1).shape"
   ]
  },
  {
   "cell_type": "markdown",
   "metadata": {},
   "source": [
    "Or directly call the `flatten` method of the array."
   ]
  },
  {
   "cell_type": "code",
   "execution_count": null,
   "metadata": {},
   "outputs": [],
   "source": [
    "M.flatten().shape"
   ]
  },
  {
   "cell_type": "markdown",
   "metadata": {},
   "source": [
    "### Indexing and Slicing\n",
    "\n",
    "As usual in Python, everything is still 0-indexed."
   ]
  },
  {
   "cell_type": "code",
   "execution_count": null,
   "metadata": {},
   "outputs": [],
   "source": [
    "M[0,1,2]"
   ]
  },
  {
   "cell_type": "markdown",
   "metadata": {},
   "source": [
    "Intuitively, think of indexing as a sequence of transforms $M_0 = M[0]$ --> $M_{0, 1} = M_0[1]$ --> $M_{0,1,2} = M_{0,2}[2]$. This can also be realized as a chain of indexing operations in Python - `M[0][1][2]`."
   ]
  },
  {
   "cell_type": "markdown",
   "metadata": {},
   "source": [
    "For any dimension not explicitly mentioned in the indexing schemes below, everything is returned."
   ]
  },
  {
   "cell_type": "code",
   "execution_count": 1,
   "metadata": {},
   "outputs": [
    {
     "ename": "NameError",
     "evalue": "name 'M' is not defined",
     "output_type": "error",
     "traceback": [
      "\u001b[0;31m---------------------------------------------------------------------------\u001b[0m",
      "\u001b[0;31mNameError\u001b[0m                                 Traceback (most recent call last)",
      "\u001b[0;32m<ipython-input-1-cac3585b48e7>\u001b[0m in \u001b[0;36m<module>\u001b[0;34m\u001b[0m\n\u001b[0;32m----> 1\u001b[0;31m \u001b[0mprint\u001b[0m\u001b[0;34m(\u001b[0m\u001b[0mM\u001b[0m\u001b[0;34m[\u001b[0m\u001b[0;36m0\u001b[0m\u001b[0;34m:\u001b[0m\u001b[0;36m1\u001b[0m\u001b[0;34m]\u001b[0m\u001b[0;34m)\u001b[0m\u001b[0;34m\u001b[0m\u001b[0;34m\u001b[0m\u001b[0m\n\u001b[0m\u001b[1;32m      2\u001b[0m \u001b[0mM\u001b[0m\u001b[0;34m[\u001b[0m\u001b[0;34m:\u001b[0m\u001b[0;34m]\u001b[0m\u001b[0;34m.\u001b[0m\u001b[0mshape\u001b[0m\u001b[0;34m\u001b[0m\u001b[0;34m\u001b[0m\u001b[0m\n",
      "\u001b[0;31mNameError\u001b[0m: name 'M' is not defined"
     ]
    }
   ],
   "source": [
    "print(M[0:1])\n",
    "M[:].shape"
   ]
  },
  {
   "cell_type": "code",
   "execution_count": 9,
   "metadata": {},
   "outputs": [
    {
     "name": "stdout",
     "output_type": "stream",
     "text": [
      "[[[0.60088009 0.80896513 0.17040742 0.39038036 0.62604164]\n",
      "  [0.50254653 0.07892314 0.10578484 0.33660597 0.79329496]\n",
      "  [0.26420581 0.30994277 0.31225862 0.35788746 0.73767658]\n",
      "  [0.87355725 0.95523726 0.1502337  0.9601097  0.1005065 ]]\n",
      "\n",
      " [[0.27565806 0.89082902 0.97250036 0.7515316  0.70463802]\n",
      "  [0.70776029 0.35398524 0.38303294 0.29734202 0.73166109]\n",
      "  [0.86430327 0.91066752 0.21493226 0.44807059 0.3969464 ]\n",
      "  [0.19733175 0.07136026 0.61966906 0.06331979 0.1837867 ]]\n",
      "\n",
      " [[0.79713593 0.23506067 0.23256497 0.3384677  0.91717951]\n",
      "  [0.3202295  0.36001323 0.80929225 0.58803133 0.71515088]\n",
      "  [0.46629363 0.26512902 0.80754717 0.68931963 0.82503039]\n",
      "  [0.59696798 0.39049764 0.39068775 0.02381431 0.5827232 ]]]\n"
     ]
    },
    {
     "data": {
      "text/plain": [
       "(2, 4, 5)"
      ]
     },
     "execution_count": 9,
     "metadata": {},
     "output_type": "execute_result"
    }
   ],
   "source": [
    "print(M[:])  ## Get only the first two elements from the first dimension.\n",
    "M[:2].shape"
   ]
  },
  {
   "cell_type": "code",
   "execution_count": 10,
   "metadata": {},
   "outputs": [
    {
     "name": "stdout",
     "output_type": "stream",
     "text": [
      "[[[0.87355725 0.95523726 0.1502337  0.9601097  0.1005065 ]]\n",
      "\n",
      " [[0.19733175 0.07136026 0.61966906 0.06331979 0.1837867 ]]]\n"
     ]
    },
    {
     "data": {
      "text/plain": [
       "(2, 1, 5)"
      ]
     },
     "execution_count": 10,
     "metadata": {},
     "output_type": "execute_result"
    }
   ],
   "source": [
    "print(M[:2, -1:])  ## Get only the first two elements from the first dimension, and the last from second.\n",
    "M[:2, -1:].shape"
   ]
  },
  {
   "cell_type": "markdown",
   "metadata": {},
   "source": [
    "## Algebra with NumPy Arrays"
   ]
  },
  {
   "cell_type": "code",
   "execution_count": null,
   "metadata": {},
   "outputs": [],
   "source": [
    "x = np.array([1,2,3,4,5])\n",
    "x.shape"
   ]
  },
  {
   "cell_type": "markdown",
   "metadata": {},
   "source": [
    "All scalar operations are universally applicable to NumPy arrays, and applied element-wise."
   ]
  },
  {
   "cell_type": "code",
   "execution_count": null,
   "metadata": {},
   "outputs": [],
   "source": [
    "(5 * x + 10)**2"
   ]
  },
  {
   "cell_type": "markdown",
   "metadata": {},
   "source": [
    "For our usual matrix algebra, we are going to reshape the array into a $5 \\times 1$ column vector, and call it `v`."
   ]
  },
  {
   "cell_type": "code",
   "execution_count": null,
   "metadata": {},
   "outputs": [],
   "source": [
    "v = np.reshape(x, (x.shape[0], 1))\n",
    "v.shape"
   ]
  },
  {
   "cell_type": "markdown",
   "metadata": {},
   "source": [
    "Here a few alternatives, that I invite you to explore, which are equivalent in effect to the reshape operation."
   ]
  },
  {
   "cell_type": "code",
   "execution_count": null,
   "metadata": {},
   "outputs": [],
   "source": [
    "## Alternatively, think in terms of adding a dimension of size 1.\n",
    "\n",
    "print(x[:, np.newaxis].shape)\n",
    "print(np.expand_dims(x, axis=-1).shape)  "
   ]
  },
  {
   "cell_type": "markdown",
   "metadata": {},
   "source": [
    "To compute the $L_2$-norm of this $5$-dimensional column vector, we use the inner-product form\n",
    "\n",
    "$$\n",
    "\\lVert v \\rVert_2 = \\sqrt{v_1^2 + v_2^2 + v_3^2 + v_4^2 + v_5^2} = \\sqrt{v^Tv}\n",
    "$$"
   ]
  },
  {
   "cell_type": "code",
   "execution_count": null,
   "metadata": {},
   "outputs": [],
   "source": [
    "l2 = np.sqrt(np.sum(v**2, axis=0, keepdims=True))\n",
    "print(l2)\n",
    "l2.shape"
   ]
  },
  {
   "cell_type": "markdown",
   "metadata": {},
   "source": [
    "Importantly, notice the `keepdims` argument. What happens if `keepdims=False`?\n",
    "\n",
    "Better yet, let's use the `np.dot` and `np.matmul` methods."
   ]
  },
  {
   "cell_type": "code",
   "execution_count": null,
   "metadata": {},
   "outputs": [],
   "source": [
    "l2 = np.sqrt(np.dot(v.T,v))\n",
    "print(l2)\n",
    "l2.shape"
   ]
  },
  {
   "cell_type": "code",
   "execution_count": null,
   "metadata": {},
   "outputs": [],
   "source": [
    "l2 = np.sqrt(np.matmul(v.T, v))\n",
    "print(l2)\n",
    "l2.shape"
   ]
  },
  {
   "cell_type": "markdown",
   "metadata": {},
   "source": [
    "Let's also do an outer product $vv^T$ to create a rank-1 matrix,"
   ]
  },
  {
   "cell_type": "code",
   "execution_count": null,
   "metadata": {},
   "outputs": [],
   "source": [
    "v_outer = np.matmul(v, v.T)\n",
    "v_outer"
   ]
  },
  {
   "cell_type": "markdown",
   "metadata": {},
   "source": [
    "and find the mean value of each row."
   ]
  },
  {
   "cell_type": "code",
   "execution_count": null,
   "metadata": {},
   "outputs": [],
   "source": [
    "v_outer_row_mean = np.mean(v_outer, axis=0, keepdims=True)\n",
    "print(v_outer_row_mean)\n",
    "v_outer_row_mean.shape"
   ]
  },
  {
   "cell_type": "markdown",
   "metadata": {},
   "source": [
    "Similarly, any operation can be defined on any dimension (usually referred to as `axis` in arguments to NumPy functions)."
   ]
  },
  {
   "cell_type": "markdown",
   "metadata": {},
   "source": [
    "### Broadcasting\n",
    "\n",
    "NumPy applies a small and strict set of \"automatic\" operation, when manipulating multi-dimensional arrays. This is elegant and powerful, so use with care!"
   ]
  },
  {
   "cell_type": "code",
   "execution_count": null,
   "metadata": {},
   "outputs": [],
   "source": [
    "A = np.ones((4, 5))\n",
    "b = np.arange(5)\n",
    "print(A)\n",
    "print(b)\n",
    "print(M.shape, b.shape)"
   ]
  },
  {
   "cell_type": "code",
   "execution_count": null,
   "metadata": {},
   "outputs": [],
   "source": [
    "A + b"
   ]
  },
  {
   "cell_type": "markdown",
   "metadata": {},
   "source": [
    "NumPy applies left-padding to the dimensions of `b`, then \"broadcasts\" them to each row of `A`, and finally applies the addition operation."
   ]
  },
  {
   "cell_type": "markdown",
   "metadata": {},
   "source": [
    "### Numerical Linear Algebra with NumPy\n",
    "\n",
    "NumPy has a battle-tested numerical linear algebra library under `np.linalg` for all the common operations - matrix factorizations, decompositions, solving linear systems, etc. Let's consider solving the following linear system\n",
    "\n",
    "$$\n",
    "6x + 2y + z = 13 \\\\\n",
    "2x + 9y + 3z = 29 \\\\\n",
    "x + 3y + 8z = 31\n",
    "$$\n",
    "\n",
    "This can be written more concisely as a system $Ax = b$."
   ]
  },
  {
   "cell_type": "code",
   "execution_count": null,
   "metadata": {},
   "outputs": [],
   "source": [
    "A = np.array([[6, 2, 1],\n",
    "              [2, 9, 3],\n",
    "              [1, 3, 8]])\n",
    "b = np.array([13, 29, 31])\n",
    "\n",
    "x = np.linalg.solve(A, b)"
   ]
  },
  {
   "cell_type": "markdown",
   "metadata": {},
   "source": [
    "We use `np.allclose` to verify our result.\n",
    "\n",
    "**TIP**: Take a look at the documentation using `?np.allclose` to see the method signature and a detailed description."
   ]
  },
  {
   "cell_type": "code",
   "execution_count": null,
   "metadata": {},
   "outputs": [],
   "source": [
    "assert np.allclose(np.matmul(A, x), b)"
   ]
  },
  {
   "cell_type": "markdown",
   "metadata": {},
   "source": [
    "Let's try Cholesky decomposition."
   ]
  },
  {
   "cell_type": "code",
   "execution_count": null,
   "metadata": {},
   "outputs": [],
   "source": [
    "L = np.linalg.cholesky(A)\n",
    "assert np.allclose(np.matmul(L, L.T), A)"
   ]
  },
  {
   "cell_type": "markdown",
   "metadata": {},
   "source": [
    "## Introduction to Matplotlib"
   ]
  },
  {
   "cell_type": "markdown",
   "metadata": {},
   "source": [
    "Matplotlib is an extremely flexible plotting library. We'll discuss some basic elements here. "
   ]
  },
  {
   "cell_type": "code",
   "execution_count": null,
   "metadata": {},
   "outputs": [],
   "source": [
    "import matplotlib.pyplot as plt\n",
    "from matplotlib import cm\n",
    "from mpl_toolkits.mplot3d import Axes3D"
   ]
  },
  {
   "cell_type": "code",
   "execution_count": null,
   "metadata": {},
   "outputs": [],
   "source": [
    "x = np.linspace(- 2. * np.pi, 2. * np.pi)\n",
    "sin_x = np.sin(x)\n",
    "cos_x = np.cos(x)"
   ]
  },
  {
   "cell_type": "code",
   "execution_count": null,
   "metadata": {},
   "outputs": [],
   "source": [
    "fig, ax = plt.subplots(figsize=(10,5))  ## Start a new figure with specified size.\n",
    "\n",
    "## Add a line plot, with some properties like width, color, markers.\n",
    "ax.plot(x, cos_x,\n",
    "         linewidth=2.,\n",
    "         marker='.',\n",
    "         color='forestgreen',\n",
    "         label='$\\cos{x}$') \n",
    "\n",
    "## Add another line plot to the same figure.\n",
    "ax.plot(x, sin_x,\n",
    "         linewidth=0.5,\n",
    "         marker='.',\n",
    "         color='orangered',\n",
    "         label=\"$\\sin{x}$\")\n",
    "\n",
    "ax.set_title(\"Two Waves\")\n",
    "ax.set_xlabel(\"$x$\")\n",
    "ax.set_ylabel(\"$y$\")\n",
    "ax.legend(loc=\"lower left\")\n",
    "plt.show()"
   ]
  },
  {
   "cell_type": "markdown",
   "metadata": {},
   "source": [
    "### Plotting 3-D Surfaces\n",
    "\n",
    "We can also plot in 3-D. Let us plot\n",
    "\n",
    "$$\n",
    "z = f(x,y) = x^2 + y^2\n",
    "$$"
   ]
  },
  {
   "cell_type": "code",
   "execution_count": null,
   "metadata": {},
   "outputs": [],
   "source": [
    "x, y = np.meshgrid(np.linspace(-5, 5, 100), np.linspace(-5, 5, 100))\n",
    "z = x**2 + y**2\n",
    "\n",
    "fig = plt.figure(figsize=(10,10))\n",
    "ax = fig.gca(projection='3d')\n",
    "surf = ax.plot_surface(x, y, z, cmap=cm.viridis)\n",
    "ax.set_xlabel('x')\n",
    "ax.set_ylabel('y')\n",
    "ax.set_zlabel('z')\n",
    "plt.title(r'$z = f(x,y) = x^2 + y^2$');  ## Notice we can use LaTeX for math expressions!"
   ]
  },
  {
   "cell_type": "markdown",
   "metadata": {},
   "source": [
    "## Optimizing functions with SciPy\n",
    "\n",
    "SciPy (_Scientific Python_) provides many utilities for scientific computation in Python. Let us minimize the function $f(x,y)$ we just plotted, and visualize the optimizer trajectory."
   ]
  },
  {
   "cell_type": "code",
   "execution_count": null,
   "metadata": {},
   "outputs": [],
   "source": [
    "import scipy as sp\n",
    "from scipy import optimize"
   ]
  },
  {
   "cell_type": "code",
   "execution_count": null,
   "metadata": {},
   "outputs": [],
   "source": [
    "def f(x):\n",
    "    return np.sum(x**2, axis=-1)\n",
    "\n",
    "res = sp.optimize.minimize(f, [-5, -5], options=dict(return_all=True))\n",
    "trajectory = np.array(res['allvecs'])\n",
    "trajectory.shape"
   ]
  },
  {
   "cell_type": "code",
   "execution_count": null,
   "metadata": {},
   "outputs": [],
   "source": [
    "x, y = np.meshgrid(np.linspace(-5, 5, 100), np.linspace(-5, 5, 100))\n",
    "z = x**2 + y**2\n",
    "\n",
    "fig = plt.figure(figsize=(10,10))\n",
    "ax = fig.gca(projection='3d')\n",
    "ax.view_init(30, 25)\n",
    "\n",
    "surf = ax.plot_surface(x, y, z, cmap=cm.viridis, zorder=1)\n",
    "ax.set_xlabel('x')\n",
    "ax.set_ylabel('y')\n",
    "ax.set_zlabel('z')\n",
    "\n",
    "ax.plot3D(trajectory[:, 0], trajectory[:, 1], f(trajectory), c='red', linewidth=2.0, marker='o', zorder=10)\n",
    "\n",
    "plt.title(f'Optimizer Trajectory for $f(x,y)$, x = {trajectory[-1,0]:.04f}, y = {trajectory[-1,1]:.04f}');"
   ]
  },
  {
   "cell_type": "markdown",
   "metadata": {},
   "source": [
    "## Optimizing functions with PyTorch\n",
    "\n",
    "PyTorch is another popular framework primarily providing easy-to-use tools for building and training neural networks. The main object manipulated here is a `Tensor`, which in some respects is equivalent to the NumPy `array`.\n",
    "\n",
    "PyTorch allows many of the same numerical operations as NumPy, including a linear algebra library. A key distinction is the ability to take derivatives (_automatic differentiation_) through computational graphs. This does not require hand-coding the derivatives, and in essence simply an efficient implementation of the chain rule from calculus.\n",
    "\n",
    "We will see this in more detail in a future lab on neural networks. For now, let us reproduce the optimization of $f(x,y)$."
   ]
  },
  {
   "cell_type": "code",
   "execution_count": null,
   "metadata": {},
   "outputs": [],
   "source": [
    "import torch\n",
    "import torch.nn as nn\n",
    "\n",
    "\n",
    "## The PyTorch equivalent of our f(x,y)\n",
    "class F(nn.Module):    \n",
    "    def __init__(self):\n",
    "        super().__init__()\n",
    "        \n",
    "        ## In the future, a neural network would be constructed here.\n",
    "        \n",
    "    def forward(self, v):\n",
    "        return v.pow(2).sum(dim=-1)"
   ]
  },
  {
   "cell_type": "markdown",
   "metadata": {},
   "source": [
    "An important feature is PyTorch is that the `Tensor`s can be differentiated. We will use a simple gradient descent optimizer to keep improving the initial value $x_0$."
   ]
  },
  {
   "cell_type": "code",
   "execution_count": null,
   "metadata": {},
   "outputs": [],
   "source": [
    "f = F()\n",
    "x0 = torch.Tensor([[-5., -5.]]).float().requires_grad_(True)\n",
    "\n",
    "optim = torch.optim.SGD([x0], lr=0.1)\n",
    "\n",
    "trajectory = [x0.detach().clone()]\n",
    "for _ in range(100):\n",
    "    y = f(x0)\n",
    "    optim.zero_grad()\n",
    "    y.backward()\n",
    "    optim.step()\n",
    "\n",
    "    trajectory.append(x0.detach().clone())  ## Get a clone of the current value.\n",
    "    \n",
    "trajectory = torch.cat(trajectory, axis=0)"
   ]
  },
  {
   "cell_type": "code",
   "execution_count": null,
   "metadata": {},
   "outputs": [],
   "source": [
    "x, y = np.meshgrid(np.linspace(-5, 5, 100), np.linspace(-5, 5, 100))\n",
    "z = x**2 + y**2\n",
    "\n",
    "fig = plt.figure(figsize=(10,10))\n",
    "ax = fig.gca(projection='3d')\n",
    "ax.view_init(30, 25)\n",
    "\n",
    "surf = ax.plot_surface(x, y, z, cmap=cm.viridis, zorder=1)\n",
    "ax.set_xlabel('x')\n",
    "ax.set_ylabel('y')\n",
    "ax.set_zlabel('z')\n",
    "\n",
    "## Note that Matplotlib prefers numpy arrays, and hence we make the type conversion.\n",
    "ax.plot3D(trajectory[:, 0].numpy(), trajectory[:, 1].numpy(), f(trajectory).numpy(), c='red', linewidth=2.0, marker='o', zorder=10)\n",
    "\n",
    "plt.title(f'Optimizer Trajectory for $f(x,y)$, x = {trajectory[-1,0]:.04f}, y = {trajectory[-1,1]:.04f}');"
   ]
  }
 ],
 "metadata": {
  "kernelspec": {
   "display_name": "Python 3",
   "language": "python",
   "name": "python3"
  },
  "language_info": {
   "codemirror_mode": {
    "name": "ipython",
    "version": 3
   },
   "file_extension": ".py",
   "mimetype": "text/x-python",
   "name": "python",
   "nbconvert_exporter": "python",
   "pygments_lexer": "ipython3",
   "version": "3.8.5"
  }
 },
 "nbformat": 4,
 "nbformat_minor": 5
}
